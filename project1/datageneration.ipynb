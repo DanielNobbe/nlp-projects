{
  "nbformat": 4,
  "nbformat_minor": 0,
  "metadata": {
    "colab": {
      "name": "main.ipynb",
      "provenance": [],
      "include_colab_link": true
    },
    "kernelspec": {
      "name": "python3",
      "display_name": "Python 3"
    }
  },
  "cells": [
    {
      "cell_type": "markdown",
      "metadata": {
        "id": "view-in-github",
        "colab_type": "text"
      },
      "source": [
        "<a href=\"https://colab.research.google.com/github/lennertjansen/nlp2/blob/master/project1/datageneration.ipynb\" target=\"_parent\"><img src=\"https://colab.research.google.com/assets/colab-badge.svg\" alt=\"Open In Colab\"/></a>"
      ]
    },
    {
      "cell_type": "markdown",
      "metadata": {
        "id": "lhUTSCXSzOws",
        "colab_type": "text"
      },
      "source": [
        "Mount notebook to drive"
      ]
    },
    {
      "cell_type": "code",
      "metadata": {
        "id": "tYoYPc-FzWeA",
        "colab_type": "code",
        "outputId": "921cf3a1-60e0-47c1-bbfd-ed4574d14232",
        "colab": {
          "base_uri": "https://localhost:8080/",
          "height": 34
        }
      },
      "source": [
        "from google.colab import drive\n",
        "drive.mount('/content/drive/')"
      ],
      "execution_count": 0,
      "outputs": [
        {
          "output_type": "stream",
          "text": [
            "Drive already mounted at /content/drive/; to attempt to forcibly remount, call drive.mount(\"/content/drive/\", force_remount=True).\n"
          ],
          "name": "stdout"
        }
      ]
    },
    {
      "cell_type": "code",
      "metadata": {
        "id": "ltKVMbGoUwcU",
        "colab_type": "code",
        "outputId": "dfe5892f-0164-44fa-d611-866be926d5eb",
        "colab": {
          "base_uri": "https://localhost:8080/",
          "height": 68
        }
      },
      "source": [
        "%cd drive/My\\ Drive/nlp2/code\n",
        "!ls"
      ],
      "execution_count": 0,
      "outputs": [
        {
          "output_type": "stream",
          "text": [
            "[Errno 2] No such file or directory: 'drive/My Drive/nlp2/code'\n",
            "/content/drive/.shortcut-targets-by-id/1QXwx2THcNLhcOFb0uOdUp12fL_lxsei0/nlp2/code\n",
            "'Colab Tutorial'   OpenNMT-py\n"
          ],
          "name": "stdout"
        }
      ]
    },
    {
      "cell_type": "code",
      "metadata": {
        "id": "bWcmAuhNQCWA",
        "colab_type": "code",
        "colab": {}
      },
      "source": [
        "import numpy as np"
      ],
      "execution_count": 0,
      "outputs": []
    },
    {
      "cell_type": "code",
      "metadata": {
        "id": "YVtzYYRxVDC1",
        "colab_type": "code",
        "outputId": "be319271-b28d-4fd8-d1a0-ab623bb10b34",
        "colab": {
          "base_uri": "https://localhost:8080/",
          "height": 54
        }
      },
      "source": [
        "\"\"\"\n",
        " To generate our dataset, we need a few things:\n",
        " 1. Grammar rules (So a PCFG) with all grammar rules\n",
        " 2. Lexical rules (a vocabulary)\n",
        " 3. A generation mechanism, that probabilistically samples how to fill in each instance, and that can stop. Should also be able to give metadata to each datapoint \n",
        " 4. Potentially a function that checks if the grammar is correct (could also be done by hand)\n",
        " 5. A translation function, that converts each generated sample into its correct interpretation. This needs interpretation rules, and a lookup table\n",
        " Notes:\n",
        " - Use nested dict for lookup table\n",
        " \"\"\""
      ],
      "execution_count": 3,
      "outputs": [
        {
          "output_type": "execute_result",
          "data": {
            "text/plain": [
              "'\\n To generate our dataset, we need a few things:\\n 1. Grammar rules (So a PCFG) with all grammar rules\\n 2. Lexical rules (a vocabulary)\\n 3. A generation mechanism, that probabilistically samples how to fill in each instance, and that can stop. Should also be able to give metadata to each datapoint \\n 4. Potentially a function that checks if the grammar is correct (could also be done by hand)\\n 5. A translation function, that converts each generated sample into its correct interpretation. This needs interpretation rules, and a lookup table\\n Notes:\\n - Use nested dict for lookup table\\n '"
            ]
          },
          "metadata": {
            "tags": []
          },
          "execution_count": 3
        }
      ]
    },
    {
      "cell_type": "code",
      "metadata": {
        "id": "co6l9-Qn5y9L",
        "colab_type": "code",
        "colab": {}
      },
      "source": [
        "class PCFG_rule:\n",
        "  def __init__(self, lhs, rhs, prob):\n",
        "    self.lhs = lhs\n",
        "    self.rhs = rhs\n",
        "    self.prob = prob\n",
        "  \n",
        "  def __str__(self):\n",
        "    if isinstance(self.rhs, list):\n",
        "      return (\"({}) {} --> {}\".format( self.prob, ' '.join(self.lhs), ' '.join(self.rhs) ))\n",
        "    else:\n",
        "      return (\"({}) {} --> {}\".format( self.prob, ' '.join(self.lhs), self.rhs ))\n",
        "\n",
        "class PCFG:\n",
        "  def __init__(self):\n",
        "    self.rules = {}\n",
        "\n",
        "  def add(self, lhs, rhs, prob):\n",
        "    rule = PCFG_rule(lhs, rhs, prob)\n",
        "    if isinstance(lhs,list):\n",
        "      lhs = tuple(lhs) # Tuple is hashable\n",
        "    if lhs in self.rules.keys():\n",
        "      self.rules[lhs].append(rule)\n",
        "    else:\n",
        "      self.rules[lhs] = [rule]\n",
        "\n",
        "  def select(self, lhs):\n",
        "    lhs = tuple(lhs)\n",
        "    return self.rules[lhs]\n",
        "\n",
        "  def sample(self, lhs):\n",
        "    # print(lhs, len(lhs))\n",
        "    assert not ((isinstance(lhs, list) or isinstance(lhs, tuple)) and len(lhs)>1), \"Only single words or non-terminals can be filled in.\"\n",
        "    if isinstance(lhs, list):\n",
        "      lhs = tuple(lhs)\n",
        "    # print(\"Sampling for \", lhs)\n",
        "    if not self.rules.get(lhs):\n",
        "      return lhs, True\n",
        "    rules = self.rules.get(lhs)\n",
        "    # print(rules)\n",
        "    probs = [rule.prob for rule in rules]\n",
        "    # print(\"probabilities: \", probs)\n",
        "    number_of_options = len(rules)\n",
        "\n",
        "    choice_index = np.random.choice(a = number_of_options, p = probs)\n",
        "    # print(\"Selected option: \", rules[choice_index].rhs)\n",
        "    return rules[choice_index].rhs, False\n",
        "\n",
        "  def generate(self, sequence):\n",
        "    # print(\"Generating for starting sequence \", sequence)\n",
        "    finished = False\n",
        "    while not finished:\n",
        "      finished_list = [False]*len(sequence)\n",
        "      new_sequence = []\n",
        "      for i, lhs in enumerate(sequence):\n",
        "        rhs, finished_list[i] = ruleset.sample(lhs)\n",
        "        if isinstance(rhs, list):\n",
        "          new_sequence.extend(rhs)\n",
        "        elif isinstance(rhs, str):\n",
        "          new_sequence.append(rhs)\n",
        "      sequence = new_sequence\n",
        "      # print(\"New sequence: \", sequence)\n",
        "      if all(finished_list):\n",
        "        finished = True\n",
        "    return sequence\n",
        "      \n",
        "\n",
        "\n",
        "  def __str__(self):\n",
        "    string = ''\n",
        "    for key in self.rules.keys():\n",
        "      for item in self.rules[key]:\n",
        "        # print(item)\n",
        "        string += item.__str__()\n",
        "        # print(item.__str__())\n",
        "        string += '\\n'\n",
        "    return string"
      ],
      "execution_count": 0,
      "outputs": []
    },
    {
      "cell_type": "code",
      "metadata": {
        "id": "2L_twi8T4Im0",
        "colab_type": "code",
        "outputId": "a8ad8e16-ba05-4f7f-e82f-fcf3bfc5e334",
        "colab": {
          "base_uri": "https://localhost:8080/",
          "height": 153
        }
      },
      "source": [
        "# 1: grammar rules. We will encode this in an array? dict? tuple? \n",
        "# dict - tuple: prob (where tuple - [lhs , rhs] for lhs --> rhs)\n",
        "# Better option: python array, with [lhs, rhs, prob] for each cfg rule\n",
        "# Where lhs is a list of each character in lhs, and rhs same for rhs\n",
        "# Actually, best option is to use a dict. Since we will be generating, the lhs should be the key.\n",
        "# So: dict of {lhs: [[rhs1, prob1], [rhs2, prob2]]}\n",
        "# rule = PCFG_rule()\n",
        "ruleset = PCFG()\n",
        "\n",
        "# Non-terminal rules:\n",
        "\n",
        "lhs = 'S' # valid sequence is an object: S --> O\n",
        "rhs = ['A', 'O']\n",
        "prob = 1\n",
        "ruleset.add(lhs, rhs, prob)\n",
        "\n",
        "lhs = 'O' # O --> A O\n",
        "rhs = ['A', 'O']\n",
        "prob = 0.15\n",
        "ruleset.add(lhs, rhs, prob)\n",
        "\n",
        "lhs = 'O' # O --> A T O\n",
        "rhs = ['A', 'T', 'O']\n",
        "prob = 0.05\n",
        "ruleset.add(lhs, rhs, prob)\n",
        "\n",
        "lhs = 'O' # O --> N O\n",
        "rhs = ['N', 'O']\n",
        "prob = 0.15\n",
        "ruleset.add(lhs, rhs, prob)\n",
        "\n",
        "# lhs = 'A' # A --> A N\n",
        "\n",
        "lhs = 'O' # O --> O & O\n",
        "rhs = ['O', '&', 'O']\n",
        "prob = 0.2\n",
        "ruleset.add(lhs, rhs, prob)\n",
        "\n",
        "\n",
        "\n",
        "lhs = 'T' # T --> W H\n",
        "rhs = ['W', 'H']\n",
        "prob = 1\n",
        "ruleset.add(lhs, rhs, prob)\n",
        "\n",
        "# lhs = ['A', 'O'] # A O --> A O & O\n",
        "# rhs = ['A', 'O', '&', 'O']\n",
        "# prob = 0.4\n",
        "# ruleset.add(lhs, rhs, prob)\n",
        "\n",
        "\n",
        "print('All non-terminal rules: \\n', ruleset)\n",
        "\n",
        "# Problem:\n",
        "# cut tomato and cut steak should be a valid S\n",
        "# S --> A O & A O \n",
        "# These should also be possibly nested in another action, so\n",
        "# A O --> A A O & A O\n",
        "# This reduces to O --> A O & A O, which reduces to O --> O & O \n",
        "# Above is true since O --> A O\n",
        "# O --> O & O should not be possible (why not?)\n",
        "# This causes line 47 to be ambiguous - unless we use a 'then' word in addition to and\n",
        "# 'then' would indicate the end of the scope of an action, where 'and' would include the next object"
      ],
      "execution_count": 5,
      "outputs": [
        {
          "output_type": "stream",
          "text": [
            "All non-terminal rules: \n",
            " (1) S --> A O\n",
            "(0.15) O --> A O\n",
            "(0.05) O --> A T O\n",
            "(0.15) O --> N O\n",
            "(0.2) O --> O & O\n",
            "(1) T --> W H\n",
            "\n"
          ],
          "name": "stdout"
        }
      ]
    },
    {
      "cell_type": "code",
      "metadata": {
        "id": "E6V5z0pV7iQd",
        "colab_type": "code",
        "outputId": "aa9455af-e9c1-451d-c0e5-edfaf1c537ce",
        "colab": {
          "base_uri": "https://localhost:8080/",
          "height": 442
        }
      },
      "source": [
        "# All lexical rules:\n",
        "\n",
        "# Object rules:\n",
        "lhs = 'O'\n",
        "objects = ['tomato', 'steak', 'onion', 'potato', 'chicken', 'pork']\n",
        "obj_probs = [0.1, 0.1, 0.1, 0.05, 0.05, 0.05] # We don't like chicken and pork\n",
        "# Note: will the eventual model be largely carnivorous or herbivorous?\n",
        "for rhs, prob in zip(objects, obj_probs):\n",
        "  ruleset.add(lhs, rhs, prob)\n",
        "# print(ruleset)\n",
        "\n",
        "# Action rules:\n",
        "lhs = 'A'\n",
        "actions = ['cut', 'fry', 'grill', 'clean', 'boil']\n",
        "act_probs = [0.3, 0.2, 0.2, 0.2, 0.1]\n",
        "for rhs, prob in zip(actions, act_probs):\n",
        "  ruleset.add(lhs, rhs, prob)\n",
        "\n",
        "# Number rules:\n",
        "lhs = 'N'\n",
        "numbers = ['one', 'two', 'three']\n",
        "num_probs = [0.5, 0.4, 0.1]\n",
        "for rhs, prob in zip(numbers, num_probs):\n",
        "  ruleset.add(lhs, rhs, prob)\n",
        "\n",
        "# Connective rules:\n",
        "lhs = '&'\n",
        "connectives = ['and', 'after', 'then']\n",
        "conn_probs = [0.4, 0.2, 0.4]\n",
        "for rhs, prob in zip(connectives, conn_probs):\n",
        "  ruleset.add(lhs, rhs, prob)\n",
        "\n",
        "# With rule:\n",
        "lhs = 'W'\n",
        "w = ['with']\n",
        "w_prob = 1\n",
        "ruleset.add(lhs, w, w_prob)\n",
        "\n",
        "# Tool rules:\n",
        "# lhs = ['H']\n",
        "# tools = ['vegknife', 'meatknife', 'fryingpan', 'grill', 'boil', 'season']\n",
        "# conn_probs = [0., 0.2, 0.4]\n",
        "# for rhs, prob in zip(connectives, conn_probs):\n",
        "#   ruleset.add(lhs, rhs, prob)\n",
        "# How do we make sure these only appear in the correct context?\n",
        "# Probably easiest to filter the wrong ones out?\n",
        "# Or use context based rules for generation. Or even substitute actions as 'action with tool'\n",
        "# strings? Probably context based rules is best, based on intuition.\n",
        "# Probably we should implement the tools in a different function than in the PCFG\n",
        "\n",
        "print(ruleset)"
      ],
      "execution_count": 6,
      "outputs": [
        {
          "output_type": "stream",
          "text": [
            "(1) S --> A O\n",
            "(0.15) O --> A O\n",
            "(0.05) O --> A T O\n",
            "(0.15) O --> N O\n",
            "(0.2) O --> O & O\n",
            "(0.1) O --> tomato\n",
            "(0.1) O --> steak\n",
            "(0.1) O --> onion\n",
            "(0.05) O --> potato\n",
            "(0.05) O --> chicken\n",
            "(0.05) O --> pork\n",
            "(1) T --> W H\n",
            "(0.3) A --> cut\n",
            "(0.2) A --> fry\n",
            "(0.2) A --> grill\n",
            "(0.2) A --> clean\n",
            "(0.1) A --> boil\n",
            "(0.5) N --> one\n",
            "(0.4) N --> two\n",
            "(0.1) N --> three\n",
            "(0.4) & --> and\n",
            "(0.2) & --> after\n",
            "(0.4) & --> then\n",
            "(1) W --> with\n",
            "\n"
          ],
          "name": "stdout"
        }
      ]
    },
    {
      "cell_type": "code",
      "metadata": {
        "id": "1KRfnL0lGfNL",
        "colab_type": "code",
        "outputId": "6832263d-33e9-4cf0-d45b-da760396d1ce",
        "colab": {
          "base_uri": "https://localhost:8080/",
          "height": 394
        }
      },
      "source": [
        "# Now, part two: generation\n",
        "# We will generate grammatically correct sequences, where we only leave the tools not filled in.\n",
        "# We always start from an S, and then randomly pick a way to fill it in, recursively\n",
        "sequences = []\n",
        "for i in range(20):\n",
        "  sequence = ['S']\n",
        "  sequence = ruleset.generate(sequence)\n",
        "  sequences.append(sequence)\n",
        "  print(\"Sequence {}: {}\".format(i,sequence))\n",
        "\n",
        "\"\"\" Observations 8/04:\n",
        "Sequence 0: ['cut', 'three', 'onion']\n",
        "Sequence 1: ['fry', 'fry', 'with', 'H', 'clean', 'five', 'pork', 'then', 'tomato']\n",
        "Sequence 2: ['cut', 'steak']\n",
        "Sequence 3: ['clean', 'tomato', 'and', 'clean', 'four', 'tomato']\n",
        "Sequence 4: ['fry', 'pork', 'and', 'steak', 'and', 'clean', 'one', 'one', 'cut', 'tomato', 'and', 'fry', 'pork']\n",
        "Sequence 5: ['grill', 'steak', 'and', 'two', 'tomato', 'and', 'onion', 'after', 'chicken']\n",
        "Sequence 6: ['clean', 'pork']\n",
        "Sequence 7: ['fry', 'potato']\n",
        "Sequence 8: ['cut', 'potato']\n",
        "Sequence 9: ['cut', 'potato']\n",
        "Sequence 10: ['cut', 'fry', 'fry', 'pork']\n",
        "Sequence 11: ['fry', 'potato']\n",
        "Sequence 12: ['grill', 'two', 'potato', 'then', 'tomato']\n",
        "Sequence 13: ['clean', 'potato']\n",
        "Sequence 14: ['grill', 'five', 'one', 'tomato']\n",
        "Sequence 15: ['fry', 'steak', 'then', 'pork']\n",
        "Sequence 16: ['grill', 'fry', 'fry', 'potato', 'and', 'pork', 'then', 'fry', 'with', 'H', 'potato', 'then', 'steak']\n",
        "Sequence 17: ['cut', 'steak']\n",
        "Sequence 18: ['boil', 'grill', 'pork', 'then', 'tomato']\n",
        "Sequence 19: ['fry', 'tomato', 'and', 'cut', 'one', 'potato', 'then', 'onion']\n",
        "\n",
        "We see sometimes a double number. This is kind of weird for human language, but should be OK in our task.\n",
        "Also we see single objects, like sequence 18. This should be interpreted as calling the action (boil grill) on both objects\n",
        "\"\"\""
      ],
      "execution_count": 7,
      "outputs": [
        {
          "output_type": "stream",
          "text": [
            "Sequence 0: ['cut', 'tomato']\n",
            "Sequence 1: ['cut', 'chicken', 'and', 'potato']\n",
            "Sequence 2: ['grill', 'pork']\n",
            "Sequence 3: ['cut', 'one', 'fry', 'grill', 'potato']\n",
            "Sequence 4: ['cut', 'tomato']\n",
            "Sequence 5: ['clean', 'steak', 'then', 'pork']\n",
            "Sequence 6: ['boil', 'two', 'tomato']\n",
            "Sequence 7: ['cut', 'steak']\n",
            "Sequence 8: ['cut', 'steak', 'then', 'potato']\n",
            "Sequence 9: ['cut', 'two', 'onion', 'after', 'chicken']\n",
            "Sequence 10: ['fry', 'tomato']\n",
            "Sequence 11: ['cut', 'steak']\n",
            "Sequence 12: ['cut', 'onion']\n",
            "Sequence 13: ['grill', 'one', 'onion']\n",
            "Sequence 14: ['boil', 'grill', 'pork']\n",
            "Sequence 15: ['cut', 'three', 'tomato']\n",
            "Sequence 16: ['cut', 'grill', 'with', 'H', 'fry', 'with', 'H', 'onion', 'and', 'fry', 'one', 'tomato', 'after', 'two', 'onion']\n",
            "Sequence 17: ['boil', 'steak']\n",
            "Sequence 18: ['clean', 'one', 'pork', 'after', 'two', 'pork']\n",
            "Sequence 19: ['grill', 'clean', 'fry', 'with', 'H', 'grill', 'three', 'one', 'steak', 'and', 'onion', 'and', 'fry', 'chicken', 'and', 'chicken', 'and', 'steak', 'then', 'pork']\n"
          ],
          "name": "stdout"
        },
        {
          "output_type": "execute_result",
          "data": {
            "text/plain": [
              "\" Observations 8/04:\\nSequence 0: ['cut', 'three', 'onion']\\nSequence 1: ['fry', 'fry', 'with', 'H', 'clean', 'five', 'pork', 'then', 'tomato']\\nSequence 2: ['cut', 'steak']\\nSequence 3: ['clean', 'tomato', 'and', 'clean', 'four', 'tomato']\\nSequence 4: ['fry', 'pork', 'and', 'steak', 'and', 'clean', 'one', 'one', 'cut', 'tomato', 'and', 'fry', 'pork']\\nSequence 5: ['grill', 'steak', 'and', 'two', 'tomato', 'and', 'onion', 'after', 'chicken']\\nSequence 6: ['clean', 'pork']\\nSequence 7: ['fry', 'potato']\\nSequence 8: ['cut', 'potato']\\nSequence 9: ['cut', 'potato']\\nSequence 10: ['cut', 'fry', 'fry', 'pork']\\nSequence 11: ['fry', 'potato']\\nSequence 12: ['grill', 'two', 'potato', 'then', 'tomato']\\nSequence 13: ['clean', 'potato']\\nSequence 14: ['grill', 'five', 'one', 'tomato']\\nSequence 15: ['fry', 'steak', 'then', 'pork']\\nSequence 16: ['grill', 'fry', 'fry', 'potato', 'and', 'pork', 'then', 'fry', 'with', 'H', 'potato', 'then', 'steak']\\nSequence 17: ['cut', 'steak']\\nSequence 18: ['boil', 'grill', 'pork', 'then', 'tomato']\\nSequence 19: ['fry', 'tomato', 'and', 'cut', 'one', 'potato', 'then', 'onion']\\n\\nWe see sometimes a double number. This is kind of weird for human language, but should be OK in our task.\\nAlso we see single objects, like sequence 18. This should be interpreted as calling the action (boil grill) on both objects\\n\""
            ]
          },
          "metadata": {
            "tags": []
          },
          "execution_count": 7
        }
      ]
    },
    {
      "cell_type": "code",
      "metadata": {
        "id": "CQtNcHXOQYB0",
        "colab_type": "code",
        "outputId": "b955f1b0-7890-44ae-c1c1-0df304f9bf4e",
        "colab": {
          "base_uri": "https://localhost:8080/",
          "height": 34
        }
      },
      "source": [
        "# In this cell, we define the lookup table for the tools pertaining to (object, action) pairs. We do this through nested dicts\n",
        "tools = {\n",
        "  'cut': {\n",
        "        'onion': 'veg-knife',\n",
        "        'tomato': 'veg-knife',\n",
        "        'steak': 'meat-knife',\n",
        "        'potato': 'veg-knife',\n",
        "        'chicken': 'chicken-knife',\n",
        "        'pork': 'meat-knife'\n",
        "    },\n",
        "  'fry': {\n",
        "      'onion': 'frying-pan',\n",
        "      'tomato': 'frying-pan',\n",
        "      'steak': 'frying-pan',\n",
        "      'potato': 'frying-pan',\n",
        "      'chicken': 'frying-pan',\n",
        "      'pork': 'frying-pan'\n",
        "  },\n",
        "  'grill': {\n",
        "      'onion': 'griddle',\n",
        "      'tomato': 'griddle',\n",
        "      'steak': 'skillet',\n",
        "      'potato': 'skillet',\n",
        "      'chicken': 'griddle',\n",
        "      'pork': 'skillet'\n",
        "  },\n",
        "  'clean': {\n",
        "      'onion': 'peeler',\n",
        "      'tomato': 'water',\n",
        "      'steak': 'fillet-knife',\n",
        "      'potato': 'peeler',\n",
        "      'chicken': 'fillet-knife',\n",
        "      'pork': 'fillet-knife'\n",
        "  },\n",
        "  'boil': {\n",
        "      'onion': 'soup-pot',\n",
        "      'tomato': 'soup-pot',\n",
        "      'steak': 'stew-pot',\n",
        "      'potato': 'stew-pot',\n",
        "      'chicken': 'soup-pot',\n",
        "      'pork': 'stew-pot'\n",
        "  },\n",
        "  'season': {\n",
        "      'onion': 'salt',\n",
        "      'tomato': 'pepper',\n",
        "      'steak': 'rosemary',\n",
        "      'potato': 'salt',\n",
        "      'chicken': 'pepper',\n",
        "      'pork': 'pepper'\n",
        "  },\n",
        "}\n",
        "\n",
        "tool_list = list(dict.fromkeys([value for action in tools.values() for value in action.values() ] ) )\n",
        "print(tool_list)"
      ],
      "execution_count": 8,
      "outputs": [
        {
          "output_type": "stream",
          "text": [
            "['veg-knife', 'meat-knife', 'chicken-knife', 'frying-pan', 'griddle', 'skillet', 'peeler', 'water', 'fillet-knife', 'soup-pot', 'stew-pot', 'salt', 'pepper', 'rosemary']\n"
          ],
          "name": "stdout"
        }
      ]
    },
    {
      "cell_type": "code",
      "metadata": {
        "id": "kfCVBaJwOip4",
        "colab_type": "code",
        "outputId": "81c8c48d-3029-406c-bbd8-b9d3ca3432a8",
        "colab": {
          "base_uri": "https://localhost:8080/",
          "height": 799
        }
      },
      "source": [
        "\"\"\" Next, we need to fill in the right tools. This uses some context. \n",
        " We should loop through each sentence, and wherever there is an open H, fill it in according to the action and next object\n",
        " Problem: some actions have tools assigned but operate on multiple objects\n",
        " --> actions with tools should operate only on single objects.\n",
        " Solution: remove everything until nesting ends for those sentences - so until the & before next action\n",
        " - This should actually be encoded in the context free grammar. However, this requires two terms in the lhs, so we circumvent that by filtering like this\n",
        " \"\"\"\n",
        "\n",
        "action_found = False\n",
        "H_found = False\n",
        "with_found = False\n",
        "remove = False\n",
        "with_index = 0\n",
        "remove_ending = 0\n",
        "# print(sequences)\n",
        "# for seq_index, seq in enumerate(sequences):\n",
        "#   print(seq, seq_index)\n",
        "#   for step in range(seq.count('H')): # Do this for each H in the sequence\n",
        "#     # We loop through all sequences. Seq is now a list of words, with sometimes an H.\n",
        "#     for token_index, token in enumerate(seq):\n",
        "#       if token in actions:\n",
        "#         action = token\n",
        "#         action_found = True\n",
        "#         continue\n",
        "#       if not ((action_found and (token == 'with')) or with_found):\n",
        "#         # print(\"With not found\")\n",
        "#         action_found = False\n",
        "#       elif token == 'with':\n",
        "#         with_found = True\n",
        "#         with_index = token_index\n",
        "#         # print(\"With found!\", action_found, with_found)\n",
        "#         continue\n",
        "#       # if (action_found and with_found):\n",
        "#       #   print(\"token after with found and action found: \", token)\n",
        "#       if action_found and with_found and (token == 'H'):\n",
        "#         # print(\"H found\")\n",
        "#         H_index = token_index\n",
        "#         H_found = True\n",
        "#         continue\n",
        "#       if action_found and H_found and (token in objects):\n",
        "#         print(\"Found token after H and action in sequence: \\n\", seq)\n",
        "#         obj = token\n",
        "#         print(\"object: \", obj)\n",
        "#         print(\"Action: \", action) # these can be used to look up what's needed. Then we remove the tokens up to the next action.\n",
        "#         tool = tools[action][obj]\n",
        "#         print(\"Tool:\", tool)\n",
        "#         seq[H_index] = tool\n",
        "#         remove = True\n",
        "#         remove_start = token_index+1\n",
        "#         rest_of_sequence = seq[remove_start:]\n",
        "#         print(seq[remove_start:])\n",
        "#         remove_end = [index-1 for index, token in enumerate(rest_of_sequence) if (token in actions and rest_of_sequence[index-1] in connectives) ]\n",
        "#         if len(remove_end)>0:\n",
        "#           remove_ending = remove_end\n",
        "#         print(remove_ending)\n",
        "#         # print(\"a: \", seq[:remove_start])\n",
        "#         # print(\"b: \", seq[remove_start+remove_ending:])\n",
        "#         sequences[seq_index] = seq[:remove_start].extend(seq[remove_start+remove_ending:])\n",
        "\n",
        "#         action_found = False\n",
        "#         H_found = False\n",
        "#         print(sequences[seq_index])\n",
        "\n",
        "# OK let's try this again. \n",
        "# 1.We need to find the H in the sequence.\n",
        "# 2. Then we need to find the action that preceeds it\n",
        "# 3. Then we need to find the object that follows it\n",
        "# 4. Then we need to remove everything up until the next '& action'\n",
        "for seq_index, seq in enumerate(sequences):\n",
        "  if 'H' in seq:\n",
        "    for step in range(seq.count('H')):\n",
        "      print(seq, seq_index)\n",
        "      print(\"Found H\")\n",
        "      H_index = seq.index('H') # This is the index of the first H in the sequence\n",
        "      \n",
        "      # print([(token in actions) for token in seq[::-1]])\n",
        "      # print(\"Action check sequence: \", seq[H_index::-1])\n",
        "      \n",
        "      action_index = H_index - [(token in actions) for token in seq[H_index::-1]].index(True) # This should find the last action before the H. Instead, it finds the last action\n",
        "      # Create a boolean list of whether something is an action, then select \n",
        "\n",
        "      # print(H_index, action_index)\n",
        "      \n",
        "      object_index = H_index + [(token in objects) for token in seq[H_index:]].index(True) # Finds first object after H\n",
        "      # For exclusion, we need to find the first pair of (& A) after the just found object\n",
        "      \n",
        "      # print(\"Next action sequence: \", seq[object_index:])\n",
        "      \n",
        "      next_action = [(token in actions and seq[object_index+token_index-1] in connectives) for token_index, token in enumerate(seq[object_index:])]\n",
        "      \n",
        "      # print(\"Found action: \", [(token in actions) for token_index, token in enumerate(seq[object_index:])])\n",
        "      # print(\"Found connective: \",[(seq[object_index+token_index-1] in connectives) for token_index, token in enumerate(seq[object_index:])])\n",
        "      # print(next_action)\n",
        "\n",
        "      if any(next_action):\n",
        "        exclusion_end = object_index + next_action.index(True) - 2\n",
        "      else:\n",
        "        exclusion_end = len(seq)-1\n",
        "      # The line above finds the action, so we need to remove everything between 2 places before that and the object.\n",
        "      \n",
        "      # print(\"H index {}, action index {}, object index {}, exclusion end {}\".format(H_index, action_index, object_index, exclusion_end))\n",
        "\n",
        "      # First, we fill in H:\n",
        "      obj = seq[object_index]\n",
        "      action = seq[action_index]\n",
        "      tool = tools[action][obj]\n",
        "      seq[H_index] = tool\n",
        "      new_sequence = seq[0:object_index+1]\n",
        "      new_sequence.extend(seq[exclusion_end+1:])\n",
        "      \n",
        "      # print(\"New sequence pt 1: \", seq[0:object_index+1])\n",
        "      # print(\"New sequence pt 2: \", seq[exclusion_end+1:])\n",
        "      # print(\"New sequence: \", new_sequence) # Gives None!\n",
        "      sequences[seq_index] = new_sequence\n",
        "    \n",
        "[print(\"Sequence {}: {}\".format(i,sequence)) for i, sequence in enumerate(sequences)]"
      ],
      "execution_count": 9,
      "outputs": [
        {
          "output_type": "stream",
          "text": [
            "['cut', 'grill', 'with', 'H', 'fry', 'with', 'H', 'onion', 'and', 'fry', 'one', 'tomato', 'after', 'two', 'onion'] 16\n",
            "Found H\n",
            "['cut', 'grill', 'with', 'griddle', 'fry', 'with', 'H', 'onion', 'and', 'fry', 'one', 'tomato', 'after', 'two', 'onion'] 16\n",
            "Found H\n",
            "['grill', 'clean', 'fry', 'with', 'H', 'grill', 'three', 'one', 'steak', 'and', 'onion', 'and', 'fry', 'chicken', 'and', 'chicken', 'and', 'steak', 'then', 'pork'] 19\n",
            "Found H\n",
            "Sequence 0: ['cut', 'tomato']\n",
            "Sequence 1: ['cut', 'chicken', 'and', 'potato']\n",
            "Sequence 2: ['grill', 'pork']\n",
            "Sequence 3: ['cut', 'one', 'fry', 'grill', 'potato']\n",
            "Sequence 4: ['cut', 'tomato']\n",
            "Sequence 5: ['clean', 'steak', 'then', 'pork']\n",
            "Sequence 6: ['boil', 'two', 'tomato']\n",
            "Sequence 7: ['cut', 'steak']\n",
            "Sequence 8: ['cut', 'steak', 'then', 'potato']\n",
            "Sequence 9: ['cut', 'two', 'onion', 'after', 'chicken']\n",
            "Sequence 10: ['fry', 'tomato']\n",
            "Sequence 11: ['cut', 'steak']\n",
            "Sequence 12: ['cut', 'onion']\n",
            "Sequence 13: ['grill', 'one', 'onion']\n",
            "Sequence 14: ['boil', 'grill', 'pork']\n",
            "Sequence 15: ['cut', 'three', 'tomato']\n",
            "Sequence 16: ['cut', 'grill', 'with', 'griddle', 'fry', 'with', 'frying-pan', 'onion', 'and', 'fry', 'one', 'tomato', 'after', 'two', 'onion']\n",
            "Sequence 17: ['boil', 'steak']\n",
            "Sequence 18: ['clean', 'one', 'pork', 'after', 'two', 'pork']\n",
            "Sequence 19: ['grill', 'clean', 'fry', 'with', 'frying-pan', 'grill', 'three', 'one', 'steak', 'and', 'fry', 'chicken', 'and', 'chicken', 'and', 'steak', 'then', 'pork']\n"
          ],
          "name": "stdout"
        },
        {
          "output_type": "execute_result",
          "data": {
            "text/plain": [
              "[None,\n",
              " None,\n",
              " None,\n",
              " None,\n",
              " None,\n",
              " None,\n",
              " None,\n",
              " None,\n",
              " None,\n",
              " None,\n",
              " None,\n",
              " None,\n",
              " None,\n",
              " None,\n",
              " None,\n",
              " None,\n",
              " None,\n",
              " None,\n",
              " None,\n",
              " None]"
            ]
          },
          "metadata": {
            "tags": []
          },
          "execution_count": 9
        }
      ]
    },
    {
      "cell_type": "code",
      "metadata": {
        "id": "37P5lDAzLTE8",
        "colab_type": "code",
        "outputId": "134ad56e-0851-4242-fb46-a4f20cdc79dc",
        "colab": {
          "base_uri": "https://localhost:8080/",
          "height": 34
        }
      },
      "source": [
        "dicti = {'a': 2, 'b': 3}\n",
        "print(dicti['a'])"
      ],
      "execution_count": 10,
      "outputs": [
        {
          "output_type": "stream",
          "text": [
            "2\n"
          ],
          "name": "stdout"
        }
      ]
    },
    {
      "cell_type": "code",
      "metadata": {
        "id": "auFMRG1PRJtt",
        "colab_type": "code",
        "colab": {}
      },
      "source": [
        "a = [2, 3, 4]\n",
        "# a.extend([])\n",
        "# for i, j in enumerate(a):\n",
        "#   print(i)\n",
        "# print(len(a))\n",
        "# print(a[0:])"
      ],
      "execution_count": 0,
      "outputs": []
    },
    {
      "cell_type": "code",
      "metadata": {
        "id": "K4JoRIDuDMSv",
        "colab_type": "code",
        "outputId": "730cdda9-476b-42f1-8e9c-66648bd93444",
        "colab": {
          "base_uri": "https://localhost:8080/",
          "height": 1000
        }
      },
      "source": [
        "interpretations = []\n",
        "number_dict = {'one': 1, 'two': 2, 'three': 3}\n",
        "\n",
        "for seq_index, seq in enumerate(sequences):\n",
        "  print(seq)\n",
        "  # There are two things to be done for interpretation.\n",
        "  # 1. Insert 'with tool' for each action.\n",
        "  # 2. Split up action to multiple actions if it works on multiple objects\n",
        "  # Let's start with two\n",
        "  # We have three cases:\n",
        "  # 1 - Multiple objects are linked by a connective (&)\n",
        "  # 2 - Objects are multiplied by a number (N)\n",
        "  # 3 - An action only has a single object it operates on\n",
        "  # Approach: isolate the scope of each action. Then add interpretation to new sequence, sequentially\n",
        "  # First action scope ends before second action in the sequence (sequence always starts with action)\n",
        "  # Second action scope is from second action up until third action, etc.\n",
        "  # Last action scope is from last action up until end of sequence.\n",
        "  # Problem: actions can be nested..\n",
        "  # What if we look from right to left? This should work, since the last action word\n",
        "  # before the object indicates the action working on the object\n",
        "  # Then we can simply create a list of objects for this scope, taking number and order (after, and) into account\n",
        "\n",
        "  # Alternative idea: insert brackets into sentence to decompose (potentially during generation?)\n",
        "  # Note: we are not extracting nested actions. \n",
        "\n",
        "  action_list = [token in actions for token in seq[::-1]]\n",
        "  # print(action_list)\n",
        "  end_index = len(seq)\n",
        "  if any(action_list):\n",
        "    inv_action_index = action_list.index(True)\n",
        "  else:\n",
        "    continue #TODO: What do we do if no actions?\n",
        "  action_scope_start = len(seq)-inv_action_index-1\n",
        "  action_scope = seq[action_scope_start:end_index]\n",
        "  print(\"Action scope: \", action_scope)\n",
        "\n",
        "  object_list = [token in objects for token in action_scope]\n",
        "  number_list = [token in numbers for token in action_scope]\n",
        "  if sum(object_list) == 1:\n",
        "    continue\n",
        "    print(\"only a single object in this scope!\")\n",
        "    obj_index = object_list.index(True)\n",
        "    if action_scope[obj_index-1] not in tool_list:\n",
        "      print(\"We need to insert the tool!\") # This could be done with a function\n",
        "      obj = action_scope[obj_index]\n",
        "      action = action_scope[0]\n",
        "      tool = tools[action][obj]\n",
        "      action_scope[1:1] = ['with', tool]\n",
        "      print(\"New action scope: \", action_scope)\n",
        "  elif sum(object_list)>1:\n",
        "    print(\"more than one object in scope!\")\n",
        "    # Find an and/then/after, then insert the action before it, and insert the tool. \n",
        "    # If there is an 'after', we should also reverse the order. This is most easily done before inserting the tool\n",
        "    con_list = [token in connectives for token in action_scope]\n",
        "    con_indices = [i for i, token in enumerate(action_scope) if (token in connectives)]\n",
        "    # con_indices = [token if (token in connectives) for token in action_scope ] \n",
        "    # print(\"con indices: \",con_indices) # continue with a check whether token is 'after' or not, in which case we reverse the objects.\n",
        "    # 'after' has a local effect: \"A after B and D\" = \"B then A then D\"\n",
        "    after_list = [token == 'after' for token in action_scope]\n",
        "    if any(after_list): # If there is an after in the action_scope, select everything between the previous connective or action as rhs, \n",
        "    # everything between 'after' and the next connective as lhs, and replace it with \"lhs then rhs\"\n",
        "      # connective_index_before\n",
        "\n",
        "      after_index = after_list.index(True)\n",
        "      if any(con_list[after_index-1::-1]):\n",
        "        connective_index_before = after_index - 1 - con_list[after_index-1::-1].index(True)\n",
        "      else:\n",
        "        connective_index_before = 0\n",
        "      if any(con_list[after_index+1:]):\n",
        "        connective_index_later = after_index + 1 +  con_list[after_index+1:].index(True)\n",
        "      else:\n",
        "        connective_index_later = len(action_scope)\n",
        "      # print(connective_index_before)\n",
        "      # print(connective_index_later)\n",
        "      lhss = action_scope[connective_index_before+1:after_index]\n",
        "      rhss = action_scope[after_index+1:connective_index_later]\n",
        "      # print(\"lhss: \", lhss, \"\\n rhss: \", rhss )\n",
        "      new_section = rhss + ['then'] + lhss\n",
        "      print(\"Swapped sections around after to:\" ,new_section)\n",
        "      # action_scope[connective_index_before+1:connective_index_later] = new_section\n",
        "      # print(\"New action scope:\" ,action_scope)\n",
        "      # TODO: Replace 'and' by 'then', and add copy of action before each occurrence\n",
        "      # TODO: Loop this for multiple 'after's\n",
        "    if any(number_list):\n",
        "      # Select the number and the object after it. Numbers can also be nested, so we need\n",
        "      # to select the number and the first object after it as a scope.\n",
        "      # Then find all numbers in that scope, and multiply them. \n",
        "      first_number_index = number_list.index(True)\n",
        "      # Select object it belongs to, is always the first object to its right\n",
        "      object_index = first_number_index + object_list[first_number_index:].index(True)\n",
        "      all_numbers = action_scope[first_number_index:object_index]\n",
        "      print(\"All numbers: \", all_numbers)\n",
        "      factor = 1\n",
        "      for number in all_numbers:\n",
        "        factor *= number_dict[number]\n",
        "      print(\"factor: \", factor)\n",
        "      new_section = [action_scope[object_index]] + ['then', action_scope[object_index]]*(factor-1)\n",
        "      insert_section = ['then', action_scope[object_index]]*(factor-1)\n",
        "      action_scope[object_index+1:object_index+1] = insert_section\n",
        "      del action_scope[first_number_index]\n",
        "      print(\"New action scope: \", action_scope)\n",
        "      print(\"New section: \", new_section)\n",
        "\n",
        "\n",
        "\n",
        "\n",
        "  # Find last action index, and then remove the scope before it from seq and store in action_scope\n",
        "  # First item in seq/action list should always be an action\n",
        "  # To insert multiple values into middle of list: https://stackoverflow.com/questions/3748063/what-is-the-syntax-to-insert-one-list-into-another-list-in-python\n",
        "  # if any(action_list):\n",
        "  #   action_index = action_list.index(True)\n",
        "  # else:\n",
        "  #   action_index = \n",
        "  # print(action_index)"
      ],
      "execution_count": 47,
      "outputs": [
        {
          "output_type": "stream",
          "text": [
            "['cut', 'tomato']\n",
            "Action scope:  ['cut', 'tomato']\n",
            "['cut', 'chicken', 'and', 'potato']\n",
            "Action scope:  ['cut', 'chicken', 'and', 'potato']\n",
            "more than one object in scope!\n",
            "['grill', 'pork']\n",
            "Action scope:  ['grill', 'pork']\n",
            "['cut', 'one', 'fry', 'grill', 'potato']\n",
            "Action scope:  ['grill', 'potato']\n",
            "['cut', 'tomato']\n",
            "Action scope:  ['cut', 'tomato']\n",
            "['clean', 'steak', 'then', 'pork']\n",
            "Action scope:  ['clean', 'steak', 'then', 'pork']\n",
            "more than one object in scope!\n",
            "['boil', 'two', 'tomato']\n",
            "Action scope:  ['boil', 'two', 'tomato']\n",
            "['cut', 'steak']\n",
            "Action scope:  ['cut', 'steak']\n",
            "['cut', 'steak', 'then', 'potato']\n",
            "Action scope:  ['cut', 'steak', 'then', 'potato']\n",
            "more than one object in scope!\n",
            "['cut', 'two', 'onion', 'after', 'chicken']\n",
            "Action scope:  ['cut', 'two', 'onion', 'after', 'chicken']\n",
            "more than one object in scope!\n",
            "Swapped sections around after to: ['chicken', 'then', 'two', 'onion']\n",
            "All numbers:  ['two']\n",
            "factor:  2\n",
            "New action scope:  ['cut', 'onion', 'then', 'onion', 'after', 'chicken']\n",
            "New section:  ['onion', 'then', 'onion']\n",
            "['fry', 'tomato']\n",
            "Action scope:  ['fry', 'tomato']\n",
            "['cut', 'steak']\n",
            "Action scope:  ['cut', 'steak']\n",
            "['cut', 'onion']\n",
            "Action scope:  ['cut', 'onion']\n",
            "['grill', 'one', 'onion']\n",
            "Action scope:  ['grill', 'one', 'onion']\n",
            "['boil', 'grill', 'pork']\n",
            "Action scope:  ['grill', 'pork']\n",
            "['cut', 'three', 'tomato']\n",
            "Action scope:  ['cut', 'three', 'tomato']\n",
            "['cut', 'grill', 'with', 'griddle', 'fry', 'with', 'frying-pan', 'onion', 'and', 'fry', 'one', 'tomato', 'after', 'two', 'onion']\n",
            "Action scope:  ['fry', 'one', 'tomato', 'after', 'two', 'onion']\n",
            "more than one object in scope!\n",
            "Swapped sections around after to: ['two', 'onion', 'then', 'one', 'tomato']\n",
            "All numbers:  ['one']\n",
            "factor:  1\n",
            "New action scope:  ['fry', 'tomato', 'after', 'two', 'onion']\n",
            "New section:  ['tomato']\n",
            "['boil', 'steak']\n",
            "Action scope:  ['boil', 'steak']\n",
            "['clean', 'one', 'pork', 'after', 'two', 'pork']\n",
            "Action scope:  ['clean', 'one', 'pork', 'after', 'two', 'pork']\n",
            "more than one object in scope!\n",
            "Swapped sections around after to: ['two', 'pork', 'then', 'one', 'pork']\n",
            "All numbers:  ['one']\n",
            "factor:  1\n",
            "New action scope:  ['clean', 'pork', 'after', 'two', 'pork']\n",
            "New section:  ['pork']\n",
            "['grill', 'clean', 'fry', 'with', 'frying-pan', 'grill', 'three', 'one', 'steak', 'and', 'fry', 'chicken', 'and', 'chicken', 'and', 'steak', 'then', 'pork']\n",
            "Action scope:  ['fry', 'chicken', 'and', 'chicken', 'and', 'steak', 'then', 'pork']\n",
            "more than one object in scope!\n"
          ],
          "name": "stdout"
        }
      ]
    },
    {
      "cell_type": "code",
      "metadata": {
        "id": "IuRDNcfIQ6DO",
        "colab_type": "code",
        "colab": {
          "base_uri": "https://localhost:8080/",
          "height": 102
        },
        "outputId": "bc218a3d-20fa-475e-dd9f-9f926cc6e41d"
      },
      "source": [
        "action_scope = ['cut', 'chicken', 'and', 'two', 'two', 'tomato', 'after', 'two', 'potato', 'then', 'beef'] \n",
        "print(\"more than one object in scope!\")\n",
        "# Find an and/then/after, then insert the action before it, and insert the tool. \n",
        "# If there is an 'after', we should also reverse the order. This is most easily done before inserting the tool\n",
        "con_list = [token in connectives for token in action_scope]\n",
        "con_indices = [i for i, token in enumerate(action_scope) if (token in connectives)]\n",
        "# con_indices = [token if (token in connectives) for token in action_scope ] \n",
        "print(\"con indices: \",con_indices) # continue with a check whether token is 'after' or not, in which case we reverse the objects.\n",
        "# 'after' has a local effect: \"A after B and D\" = \"B then A then D\"\n",
        "after_list = [token == 'after' for token in action_scope]\n",
        "number_list = [token in numbers for token in action_scope]\n",
        "object_list = [token in objects for token in action_scope]\n",
        "number_dict = {'one': 1, 'two': 2, 'three': 3}\n",
        "if any(number_list):\n",
        "  # Select the number and the object after it. Numbers can also be nested, so we need\n",
        "  # to select the number and the first object after it as a scope.\n",
        "  # Then find all numbers in that scope, and multiply them. \n",
        "  first_number_index = number_list.index(True)\n",
        "  # Select object it belongs to, is always the first object to its right\n",
        "  object_index = first_number_index + object_list[first_number_index:].index(True)\n",
        "  all_numbers = action_scope[first_number_index:object_index]\n",
        "  print(\"All numbers: \", all_numbers)\n",
        "  factor = 1\n",
        "  for number in all_numbers:\n",
        "    factor *= number_dict[number]\n",
        "  print(\"factor: \", factor)\n",
        "  new_section = [action_scope[object_index]] + ['then', action_scope[object_index]]*(factor-1)\n",
        "  print(\"New section: \", new_section)"
      ],
      "execution_count": 41,
      "outputs": [
        {
          "output_type": "stream",
          "text": [
            "more than one object in scope!\n",
            "con indices:  [2, 6, 9]\n",
            "All numbers:  ['two', 'two']\n",
            "factor:  4\n",
            "New section:  ['tomato', 'then', 'tomato', 'then', 'tomato', 'then', 'tomato']\n"
          ],
          "name": "stdout"
        }
      ]
    },
    {
      "cell_type": "code",
      "metadata": {
        "id": "pLUxXjMTUYxf",
        "colab_type": "code",
        "colab": {}
      },
      "source": [
        ""
      ],
      "execution_count": 0,
      "outputs": []
    }
  ]
}