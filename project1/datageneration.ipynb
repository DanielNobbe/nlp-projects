{
  "nbformat": 4,
  "nbformat_minor": 0,
  "metadata": {
    "colab": {
      "name": "main.ipynb",
      "provenance": [],
      "include_colab_link": true
    },
    "kernelspec": {
      "name": "python3",
      "display_name": "Python 3"
    }
  },
  "cells": [
    {
      "cell_type": "markdown",
      "metadata": {
        "id": "view-in-github",
        "colab_type": "text"
      },
      "source": [
        "<a href=\"https://colab.research.google.com/github/lennertjansen/nlp2/blob/master/project1/datageneration.ipynb\" target=\"_parent\"><img src=\"https://colab.research.google.com/assets/colab-badge.svg\" alt=\"Open In Colab\"/></a>"
      ]
    },
    {
      "cell_type": "markdown",
      "metadata": {
        "id": "lhUTSCXSzOws",
        "colab_type": "text"
      },
      "source": [
        "Mount notebook to drive"
      ]
    },
    {
      "cell_type": "code",
      "metadata": {
        "id": "tYoYPc-FzWeA",
        "colab_type": "code",
        "outputId": "685317d6-d34f-4d3f-b2e1-63ecfe171ef1",
        "colab": {
          "base_uri": "https://localhost:8080/",
          "height": 54
        }
      },
      "source": [
        "from google.colab import drive\n",
        "drive.mount('/content/drive/')"
      ],
      "execution_count": 7,
      "outputs": [
        {
          "output_type": "stream",
          "text": [
            "Drive already mounted at /content/drive/; to attempt to forcibly remount, call drive.mount(\"/content/drive/\", force_remount=True).\n"
          ],
          "name": "stdout"
        }
      ]
    },
    {
      "cell_type": "code",
      "metadata": {
        "id": "ltKVMbGoUwcU",
        "colab_type": "code",
        "outputId": "f3e42e51-96a8-4bbb-f876-40ec8636c26c",
        "colab": {
          "base_uri": "https://localhost:8080/",
          "height": 51
        }
      },
      "source": [
        "%cd drive/My\\ Drive/nlp2/code\n",
        "!ls"
      ],
      "execution_count": 10,
      "outputs": [
        {
          "output_type": "stream",
          "text": [
            "/content/drive/.shortcut-targets-by-id/1QXwx2THcNLhcOFb0uOdUp12fL_lxsei0/nlp2/code\n",
            "'Colab Tutorial'\n"
          ],
          "name": "stdout"
        }
      ]
    },
    {
      "cell_type": "code",
      "metadata": {
        "id": "YVtzYYRxVDC1",
        "colab_type": "code",
        "colab": {}
      },
      "source": [
        "\"\"\"\n",
        " To generate our dataset, we need a few things:\n",
        " 1. Grammar rules (So a PCFG) with all grammar rules\n",
        " 2. Lexical rules (a vocabulary)\n",
        " 3. A generation mechanism, that probabilistically samples how to fill in each instance, and that can stop. Should also be able to give metadata to each datapoint \n",
        " 4. Potentially a function that checks if the grammar is correct (could also be done by hand)\n",
        " 5. A translation function, that converts each generated sample into its correct interpretation. This needs interpretation rules, and a lookup table\n",
        " \"\"\""
      ],
      "execution_count": 0,
      "outputs": []
    },
    {
      "cell_type": "code",
      "metadata": {
        "id": "co6l9-Qn5y9L",
        "colab_type": "code",
        "colab": {}
      },
      "source": [
        "class PCFG_rule:\n",
        "  def __init__(self, lhs, rhs, prob):\n",
        "    self.lhs = list(lhs)\n",
        "    self.rhs = rhs\n",
        "    self.prob = prob\n",
        "\n",
        "class PCFG:\n",
        "  def __init__(self):\n",
        "    self.rules = {}\n",
        "\n",
        "  def add(self, lhs, rhs, prob):\n",
        "    rule = PCFG_rule(lhs, rhs, prob)\n",
        "    lhs = tuple(lhs) # Tuple is hashable\n",
        "    if lhs in self.rules.keys():\n",
        "      self.rules[lhs].append(rule)\n",
        "    else:\n",
        "      self.rules[lhs] = [rule]\n",
        "\n",
        "  def select(self, lhs):\n",
        "    lhs = tuple(lhs)\n",
        "    return self.rules[lhs]"
      ],
      "execution_count": 0,
      "outputs": []
    },
    {
      "cell_type": "code",
      "metadata": {
        "id": "2L_twi8T4Im0",
        "colab_type": "code",
        "colab": {
          "base_uri": "https://localhost:8080/",
          "height": 149
        },
        "outputId": "78d0b55f-6716-4f51-829f-770b5b3e96c4"
      },
      "source": [
        "# 1: grammar rules. We will encode this in an array? dict? tuple? \n",
        "# dict - tuple: prob (where tuple - [lhs , rhs] for lhs --> rhs)\n",
        "# Better option: python array, with [lhs, rhs, prob] for each cfg rule\n",
        "# Where lhs is a list of each character in lhs, and rhs same for rhs\n",
        "# Actually, best option is to use a dict. Since we will be generating, the lhs should be the key.\n",
        "# So: dict of {lhs: [[rhs1, prob1], [rhs2, prob2]]}\n",
        "# rule = PCFG_rule()\n",
        "ruleset = PCFG()\n",
        "lhs = ['O'] \n",
        "rhs = ['A', 'O']\n",
        "prob = 0.4\n",
        "ruleset.add(lhs, rhs, prob)\n",
        "# print(\"[{}] {} --> {}\".format(PCFG[lhs]))\n",
        "print(ruleset) # TODO: Define print for PCFG object\n",
        "print(ruleset.select(lhs)[0].rhs)\n",
        "# print(\"[{}] {} --> {}\".format([rule.prob, rule.lhs, rule.rhs for rule in ruleset.select(lhs)[0]]))\n",
        "# print(\"[{}] {} --> {}\".format(ruleset.rules[tuple(lhs)]))"
      ],
      "execution_count": 51,
      "outputs": [
        {
          "output_type": "error",
          "ename": "SyntaxError",
          "evalue": "ignored",
          "traceback": [
            "\u001b[0;36m  File \u001b[0;32m\"<ipython-input-52-d5aafbc84f90>\"\u001b[0;36m, line \u001b[0;32m9\u001b[0m\n\u001b[0;31m    print(\"[{}] {} --> {}\".format([rule.prob, rule.lhs, rule.rhs for rule in ruleset.select(lhs)[0]]))\u001b[0m\n\u001b[0m                                                                   ^\u001b[0m\n\u001b[0;31mSyntaxError\u001b[0m\u001b[0;31m:\u001b[0m invalid syntax\n"
          ]
        }
      ]
    },
    {
      "cell_type": "code",
      "metadata": {
        "id": "E6V5z0pV7iQd",
        "colab_type": "code",
        "colab": {}
      },
      "source": [
        ""
      ],
      "execution_count": 0,
      "outputs": []
    }
  ]
}