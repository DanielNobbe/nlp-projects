{
 "cells": [
  {
   "cell_type": "markdown",
   "metadata": {},
   "source": [
    "# Imports"
   ]
  },
  {
   "cell_type": "code",
   "execution_count": 1,
   "metadata": {},
   "outputs": [],
   "source": [
    "import torch\n",
    "from pathlib import Path\n",
    "from matplotlib import pyplot as plt\n",
    "import numpy as np"
   ]
  },
  {
   "cell_type": "code",
   "execution_count": 2,
   "metadata": {},
   "outputs": [],
   "source": [
    "from einops import rearrange, reduce"
   ]
  },
  {
   "cell_type": "code",
   "execution_count": 3,
   "metadata": {},
   "outputs": [],
   "source": [
    "from torch.distributions import kl_divergence\n",
    "from torch.distributions.normal import Normal\n"
   ]
  },
  {
   "cell_type": "code",
   "execution_count": 4,
   "metadata": {},
   "outputs": [],
   "source": [
    "import torch\n",
    "from pathlib import Path\n",
    "from matplotlib import pyplot as plt\n",
    "import numpy as np\n",
    "\n",
    "from einops import rearrange, reduce\n",
    "\n",
    "from torch.distributions import kl_divergence\n",
    "from torch.distributions.normal import Normal\n",
    "import torch\n",
    "\n",
    "from vae import test_nll_estimation, parse_arguments\n",
    "\n",
    "from pathlib import Path"
   ]
  },
  {
   "cell_type": "markdown",
   "metadata": {},
   "source": [
    "# Functions"
   ]
  },
  {
   "cell_type": "code",
   "execution_count": 5,
   "metadata": {},
   "outputs": [],
   "source": [
    "def load_stat(saved_stats_folder):\n",
    "    order_fn = lambda p: int(str(p).split('_')[-1].split(\".\")[0])\n",
    "\n",
    "    means_paths = sorted(list(Path(saved_stats_folder).glob(\"*.means\")), key=order_fn)\n",
    "    stds_paths = sorted(list(Path(saved_stats_folder).glob(\"*.stds\")), key=order_fn)\n",
    "    \n",
    "    means = [torch.load(mean_path, map_location=torch.device('cpu')) for mean_path in means_paths]\n",
    "    means_means = [mean['running_mean'] for mean in means]\n",
    "    means_vars = [mean['running_var'] for mean in means]\n",
    "    \n",
    "    stds = [torch.load(std_path, map_location=torch.device('cpu')) for std_path in stds_paths]\n",
    "    stds_means = [std['running_mean'] for std in stds]\n",
    "    stds_vars = [std['running_var'] for std in stds]\n",
    "    \n",
    "    return [torch.stack(i) for i in [means_means, means_vars, stds_means, stds_vars]]    "
   ]
  },
  {
   "cell_type": "code",
   "execution_count": 16,
   "metadata": {},
   "outputs": [],
   "source": [
    "args = dict(\n",
    "    data_path='../Data/Dataset',\n",
    "    device='cuda' if torch.cuda.is_available() else 'cpu',\n",
    "    embedding_size=300,\n",
    "    hidden_size=256,\n",
    "    latent_size=16,\n",
    "    num_layers=1,\n",
    "    word_dropout=1.0,\n",
    "    freebits=None,\n",
    "    model_save_path='models',\n",
    "    batch_size_valid=64,\n",
    "    num_samples=10,\n",
    ")"
   ]
  },
  {
   "cell_type": "code",
   "execution_count": 17,
   "metadata": {
    "scrolled": true
   },
   "outputs": [],
   "source": [
    "def get_approx_nlls(saved_model_files):\n",
    "    nlls = []\n",
    "    kls = []\n",
    "    ppls = []\n",
    "    for saved_model_file in saved_model_files:\n",
    "        nll, kl, ppl = test_nll_estimation(saved_model_file=saved_model_file, **args)\n",
    "        nlls.append(nll)\n",
    "        kls.append(kl)\n",
    "        ppls.append(ppl)\n",
    "    return nlls, kls, ppls"
   ]
  },
  {
   "cell_type": "code",
   "execution_count": 18,
   "metadata": {},
   "outputs": [],
   "source": [
    "def get_model_filenames(experiment_name='vanilla'):\n",
    "    saved_model_files = [next(Path(f\"results_final/results{i}/{experiment_name}/models/\").iterdir()) for i in range(4)]\n",
    "    saved_model_files = [str(f) for f in saved_model_files]\n",
    "    return saved_model_files"
   ]
  },
  {
   "cell_type": "markdown",
   "metadata": {},
   "source": [
    "# Result: Sample sentences"
   ]
  },
  {
   "cell_type": "code",
   "execution_count": 6,
   "metadata": {},
   "outputs": [],
   "source": [
    "from sample_sentences import sample_sentence"
   ]
  },
  {
   "cell_type": "code",
   "execution_count": 7,
   "metadata": {},
   "outputs": [],
   "source": [
    "from vae import Encoder, Sampler, WordDropout, Decoder, Lagrangian, SentenceVAE, evaluate\n",
    "\n",
    "from pathlib import Path\n",
    "\n",
    "import torch\n",
    "from torch import nn\n",
    "from torch.utils.data import DataLoader\n",
    "\n",
    "from data import padded_collate, get_datasets\n"
   ]
  },
  {
   "cell_type": "code",
   "execution_count": 29,
   "metadata": {},
   "outputs": [
    {
     "name": "stdout",
     "output_type": "stream",
     "text": [
      "Lengths:  39832 1700 2416\n"
     ]
    }
   ],
   "source": [
    "data_path = args['data_path']\n",
    "train_data, val_data, test_data = get_datasets(data_path)\n",
    "tokenizer = train_data.tokenizer\n",
    "\n",
    "print(\"Lengths: \", len(train_data), len(val_data), len(test_data))\n",
    "\n",
    "test_loader = DataLoader(\n",
    "    val_data, batch_size=32, shuffle=False, collate_fn=padded_collate\n",
    ")\n",
    "\n",
    "model = SentenceVAE(\n",
    "    vocab_size=tokenizer.vocab_size,\n",
    "    embedding_size=300,\n",
    "    hidden_size=256,\n",
    "    latent_size=16,\n",
    "    num_layers=1, #1,\n",
    "    word_dropout_probability=1.0,\n",
    "    unk_token_idx=tokenizer.unk_token_id,\n",
    "    freebits = 0, # Freebits value is the lambda value as described in Kingma et al. \n",
    ")"
   ]
  },
  {
   "cell_type": "code",
   "execution_count": 30,
   "metadata": {},
   "outputs": [],
   "source": [
    "experiments = [\n",
    "    \"vanilla\",\n",
    "    \"word_dropout_066\",\n",
    "    \"freebits_05\",\n",
    "    \"mdr10\",\n",
    "    \"word_dropout_066_freebits_05\",\n",
    "    \"word_dropout_066_mdr_10\",\n",
    "]"
   ]
  },
  {
   "cell_type": "code",
   "execution_count": 31,
   "metadata": {},
   "outputs": [
    {
     "data": {
      "text/plain": [
       "['results_final/results0/vanilla/models/sentence_vae_3500.pt',\n",
       " 'results_final/results0/word_dropout_066/models/sentence_vae_6000.pt',\n",
       " 'results_final/results0/freebits_05/models/sentence_vae_FreeBits_0.5_3500.pt',\n",
       " 'results_final/results0/mdr10/models/sentence_vae_MDR_10.0_3500.pt',\n",
       " 'results_final/results0/word_dropout_066_freebits_05/models/sentence_vae_FreeBits_0.5_4500.pt',\n",
       " 'results_final/results0/word_dropout_066_mdr_10/models/sentence_vae_MDR_10.0_6000.pt']"
      ]
     },
     "execution_count": 31,
     "metadata": {},
     "output_type": "execute_result"
    }
   ],
   "source": [
    "models0 = [get_model_filenames(experiment)[0] for experiment in experiments]\n",
    "models0"
   ]
  },
  {
   "cell_type": "code",
   "execution_count": 33,
   "metadata": {},
   "outputs": [
    {
     "name": "stdout",
     "output_type": "stream",
     "text": [
      "\n",
      "\n",
      "vanilla sample sentences:\n",
      "\n",
      "`` The company is a lot of about $ 30 million , '' said Mr. Mehl , who had been a vice president of the company 's board [EOS]\n",
      "The company said it expects to be a loss of $ 2.3 million , or $ 1.19 a share , in the first quarter [EOS]\n",
      "The company said it expects to be a loss of $ 2.3 million , or $ 1.19 a share , a year earlier [EOS]\n",
      "In the past decade , the company said it will be a dividend to $ 50 million from $ 1 million [EOS]\n",
      "The company said it expects to be a loss of $ 7 million , or $ 1.19 a share , in the first quarter [EOS]\n",
      "\n",
      "\n",
      "word_dropout_066 sample sentences:\n",
      "\n",
      "But the company said it would n't identify the company 's new product [EOS]\n",
      "But the company said it would n't identify the U.S. and other objectives [EOS]\n",
      "The company said it will be a `` crisper '' for the company 's new product [EOS]\n",
      "`` It 's a wait-and-see situation , '' says Mr. Verwoerd [EOS]\n",
      "`` The market is a lot of the market , '' says Mr. Verwoerd , a former vice president [EOS]\n",
      "\n",
      "\n",
      "freebits_05 sample sentences:\n",
      "\n",
      "The U.S. is based on the New York Stock Exchange , which has been blamed for the past year , and the company 's annual interest rates in the past year [EOS]\n",
      "He has a lot of the art of the company 's image [EOS]\n",
      "That 's a headache for the first time , the company said [EOS]\n",
      "New Jersey , which has been working on the New York Stock Exchange , which has been blamed for the first time since January to sell its own account [EOS]\n",
      "Mr. Dozen said the company 's `` The Homecoming '' is that the price and the stock market 's `` The value of the economy is n't the right to be very much [EOS]\n",
      "\n",
      "\n",
      "mdr10 sample sentences:\n",
      "\n",
      "It also was a disappointment of a new post that would give her skirt [EOS]\n",
      "For the past two years , Mr. Gorbachev has been a major problem for the U.S. , and the other hand , which has been a major problem for the U.S. [EOS]\n",
      "And then , the company said , `` We 're not to be a very good for the company . [EOS]\n",
      "The Financial Times 30-share index rose 1 3\\/4 to 44 3\\/4 % , due 1993-2009 , to yield from 6.15 % [EOS]\n",
      "`` Most people who are a lot of people who are n't sure you can be a good workout , '' says William A. , who is the chairman and chief executive officer [EOS]\n",
      "\n",
      "\n",
      "word_dropout_066_freebits_05 sample sentences:\n",
      "\n",
      "One of the company , which has been sold at the end of the company 's common shares [EOS]\n",
      "In addition , the trust 's largest market , which is expected to be sold at the end of the company 's stock [EOS]\n",
      "In the past two months , the government had a $ 100 million charge in the U.S. and the U.S. and the U.S. and the U.S. currency [EOS]\n",
      "A company 's ghost was n't a good news conference on the New York Stock Exchange [EOS]\n",
      "On the New York Stock Exchange , the company 's intention to sell off their own [EOS]\n",
      "\n",
      "\n",
      "word_dropout_066_mdr_10 sample sentences:\n",
      "\n",
      "And the exchange will be sold for the next few weeks [EOS]\n",
      "The market is still being routed to the market , and the most active market [EOS]\n",
      "Mr. Rifenburgh , the company 's chairman , said the company 's `` not be a good price of $ 8 million , or $ 1.20 a share , in the third quarter [EOS]\n",
      "The company has been a strong stake in the past three years [EOS]\n",
      "In the case , the company said , `` We 're not going to be a good bet [EOS]\n"
     ]
    }
   ],
   "source": [
    "for experiment, model_filename in zip(experiments, models0):\n",
    "    model.load_from(model_filename)\n",
    "    print(f\"\\n\\n{experiment} sample sentences:\\n\")\n",
    "    for i in range(5):\n",
    "        sentence = sample_sentence(model, tokenizer, number=2)"
   ]
  },
  {
   "cell_type": "markdown",
   "metadata": {},
   "source": [
    "# Tracked values results"
   ]
  },
  {
   "cell_type": "code",
   "execution_count": 92,
   "metadata": {},
   "outputs": [],
   "source": [
    "folder_vanilla = \"results_final/results0/vanilla/checkpoints\"\n",
    "\n",
    "folder_mdr = \"results_final/results0/mdr10/checkpoints\"\n",
    "\n",
    "folder_freebits = \"results_final/results0/freebits_05/checkpoints\""
   ]
  },
  {
   "cell_type": "code",
   "execution_count": 95,
   "metadata": {},
   "outputs": [],
   "source": [
    "prior = Normal(0.0, 1.0)"
   ]
  },
  {
   "cell_type": "code",
   "execution_count": 97,
   "metadata": {},
   "outputs": [],
   "source": [
    "names = ['vanilla', 'mdr', 'freebits']\n",
    "folders = [folder_vanilla, folder_mdr, folder_freebits]"
   ]
  },
  {
   "cell_type": "code",
   "execution_count": 98,
   "metadata": {},
   "outputs": [],
   "source": [
    "stats = [load_stat(folder) for folder in folders]  # means_means, means_vars, stds_means, stds_vars"
   ]
  },
  {
   "cell_type": "code",
   "execution_count": 99,
   "metadata": {},
   "outputs": [],
   "source": [
    "qs = [Normal(means_means, torch.sqrt(vars_means)) for means_means, _, vars_means, _ in stats]"
   ]
  },
  {
   "cell_type": "code",
   "execution_count": 100,
   "metadata": {},
   "outputs": [],
   "source": [
    "kls = [kl_divergence(q, prior) for q in qs]"
   ]
  },
  {
   "cell_type": "code",
   "execution_count": 101,
   "metadata": {},
   "outputs": [],
   "source": [
    "vmin = min([t.min() for t in kls])\n",
    "vmax = max([t.max() for t in kls])"
   ]
  },
  {
   "cell_type": "code",
   "execution_count": 102,
   "metadata": {},
   "outputs": [
    {
     "data": {
      "text/plain": [
       "(tensor(1.3117e-06), tensor(0.2340))"
      ]
     },
     "execution_count": 102,
     "metadata": {},
     "output_type": "execute_result"
    }
   ],
   "source": [
    "vmin, vmax"
   ]
  },
  {
   "cell_type": "code",
   "execution_count": 103,
   "metadata": {
    "scrolled": true
   },
   "outputs": [
    {
     "data": {
      "image/png": "[encoded data removed]",
      "text/plain": [
       "<Figure size 720x216 with 6 Axes>"
      ]
     },
     "metadata": {
      "needs_background": "light"
     },
     "output_type": "display_data"
    }
   ],
   "source": [
    "f, axes = plt.subplots(1, len(kls), figsize=(10, 3), sharex=True, sharey=True)\n",
    "first = True\n",
    "for ax, kl, name in zip(axes, kls, names):\n",
    "    if first:\n",
    "        ax.set_ylabel('Latent features')\n",
    "        first = False\n",
    "#     pcm = ax.imshow(kl.T, vmin=vmin, vmax=vmax, cmap='hsv')\n",
    "    pcm = ax.imshow(kl.T, vmin=-vmax, vmax=vmax, cmap='hsv')\n",
    "#     pcm = ax.imshow(kl.T)\n",
    "    f.colorbar(pcm, ax=ax)\n",
    "    ax.set_xlabel('Training steps')\n",
    "    ax.set_title(name)\n",
    "    ticks = np.arange(0, kl.shape[0], 3)\n",
    "    ax.set_xticks(ticks)\n",
    "    ax.set_xticklabels(ticks * 500)\n",
    "\n",
    "\n",
    "plt.savefig('KL.eps', bbox_inches='tight')\n",
    "plt.show()"
   ]
  },
  {
   "cell_type": "markdown",
   "metadata": {},
   "source": [
    "# Test Results"
   ]
  },
  {
   "cell_type": "code",
   "execution_count": 74,
   "metadata": {},
   "outputs": [],
   "source": [
    "num_samples = 10"
   ]
  },
  {
   "cell_type": "markdown",
   "metadata": {},
   "source": [
    "## Vanilla"
   ]
  },
  {
   "cell_type": "code",
   "execution_count": 8,
   "metadata": {},
   "outputs": [
    {
     "data": {
      "text/plain": [
       "['results_final/results0/vanilla/models/sentence_vae_3500.pt',\n",
       " 'results_final/results1/vanilla/models/sentence_vae_3500.pt',\n",
       " 'results_final/results2/vanilla/models/sentence_vae_3500.pt',\n",
       " 'results_final/results3/vanilla/models/sentence_vae_3500.pt']"
      ]
     },
     "execution_count": 8,
     "metadata": {},
     "output_type": "execute_result"
    }
   ],
   "source": [
    "saved_model_files = get_model_filenames('vanilla')\n",
    "saved_model_files"
   ]
  },
  {
   "cell_type": "code",
   "execution_count": null,
   "metadata": {},
   "outputs": [],
   "source": [
    "vanilla_nlls, vanilla_kls, vanilla_ppls = get_approx_nlls(saved_model_files)"
   ]
  },
  {
   "cell_type": "markdown",
   "metadata": {},
   "source": [
    "## Word dropout"
   ]
  },
  {
   "cell_type": "code",
   "execution_count": 11,
   "metadata": {},
   "outputs": [
    {
     "data": {
      "text/plain": [
       "['results_final/results0/word_dropout_066/models/sentence_vae_6000.pt',\n",
       " 'results_final/results1/word_dropout_066/models/sentence_vae_4500.pt',\n",
       " 'results_final/results2/word_dropout_066/models/sentence_vae_6000.pt',\n",
       " 'results_final/results3/word_dropout_066/models/sentence_vae_6000.pt']"
      ]
     },
     "execution_count": 11,
     "metadata": {},
     "output_type": "execute_result"
    }
   ],
   "source": [
    "saved_model_files = get_model_filenames('word_dropout_066')\n",
    "saved_model_files"
   ]
  },
  {
   "cell_type": "code",
   "execution_count": null,
   "metadata": {},
   "outputs": [],
   "source": [
    "wd_nlls, wd_kls, wd_ppls = get_approx_nlls(saved_model_files)"
   ]
  },
  {
   "cell_type": "code",
   "execution_count": 13,
   "metadata": {
    "scrolled": true
   },
   "outputs": [
    {
     "name": "stdout",
     "output_type": "stream",
     "text": [
      "[tensor(126.3573, device='cuda:0'), tensor(127.2923, device='cuda:0'), tensor(126.4816, device='cuda:0'), tensor(126.8953, device='cuda:0')]\n"
     ]
    }
   ],
   "source": [
    "print(wd_nlls)"
   ]
  },
  {
   "cell_type": "markdown",
   "metadata": {},
   "source": [
    "## Free Bits"
   ]
  },
  {
   "cell_type": "code",
   "execution_count": 14,
   "metadata": {},
   "outputs": [
    {
     "data": {
      "text/plain": [
       "['results_final/results0/freebits_05/models/sentence_vae_FreeBits_0.5_3500.pt',\n",
       " 'results_final/results1/freebits_05/models/sentence_vae_FreeBits_0.5_3500.pt',\n",
       " 'results_final/results2/freebits_05/models/sentence_vae_FreeBits_0.5_3500.pt',\n",
       " 'results_final/results3/freebits_05/models/sentence_vae_FreeBits_0.5_3500.pt']"
      ]
     },
     "execution_count": 14,
     "metadata": {},
     "output_type": "execute_result"
    }
   ],
   "source": [
    "saved_model_files = get_model_filenames('freebits_05')\n",
    "saved_model_files"
   ]
  },
  {
   "cell_type": "code",
   "execution_count": null,
   "metadata": {},
   "outputs": [],
   "source": [
    "fb_nlls, fb_kls, fb_ppls = get_approx_nlls(saved_model_files)"
   ]
  },
  {
   "cell_type": "code",
   "execution_count": 16,
   "metadata": {},
   "outputs": [
    {
     "name": "stdout",
     "output_type": "stream",
     "text": [
      "[tensor(121.0335, device='cuda:0'), tensor(120.8254, device='cuda:0'), tensor(120.9688, device='cuda:0'), tensor(121.1455, device='cuda:0')]\n"
     ]
    }
   ],
   "source": [
    "print(fb_nlls)"
   ]
  },
  {
   "cell_type": "markdown",
   "metadata": {},
   "source": [
    "## MDR"
   ]
  },
  {
   "cell_type": "code",
   "execution_count": 17,
   "metadata": {},
   "outputs": [
    {
     "data": {
      "text/plain": [
       "['results_final/results0/mdr10/models/sentence_vae_MDR_10.0_3500.pt',\n",
       " 'results_final/results1/mdr10/models/sentence_vae_MDR_10.0_3500.pt',\n",
       " 'results_final/results2/mdr10/models/sentence_vae_MDR_10.0_3500.pt',\n",
       " 'results_final/results3/mdr10/models/sentence_vae_MDR_10.0_3500.pt']"
      ]
     },
     "execution_count": 17,
     "metadata": {},
     "output_type": "execute_result"
    }
   ],
   "source": [
    "saved_model_files = get_model_filenames('mdr10')\n",
    "saved_model_files"
   ]
  },
  {
   "cell_type": "code",
   "execution_count": null,
   "metadata": {},
   "outputs": [],
   "source": [
    "mdr_nlls, mdr_kls, mdr_ppls = get_approx_nlls(saved_model_files)"
   ]
  },
  {
   "cell_type": "code",
   "execution_count": 19,
   "metadata": {},
   "outputs": [
    {
     "name": "stdout",
     "output_type": "stream",
     "text": [
      "[tensor(119.7502, device='cuda:0'), tensor(119.9091, device='cuda:0'), tensor(120.0708, device='cuda:0'), tensor(119.5433, device='cuda:0')]\n"
     ]
    }
   ],
   "source": [
    "print(mdr_nlls)"
   ]
  },
  {
   "cell_type": "markdown",
   "metadata": {},
   "source": [
    "## Word dropout & Free Bits"
   ]
  },
  {
   "cell_type": "code",
   "execution_count": 20,
   "metadata": {},
   "outputs": [
    {
     "data": {
      "text/plain": [
       "['results_final/results0/word_dropout_066_freebits_05/models/sentence_vae_FreeBits_0.5_4500.pt',\n",
       " 'results_final/results1/word_dropout_066_freebits_05/models/sentence_vae_FreeBits_0.5_6000.pt',\n",
       " 'results_final/results2/word_dropout_066_freebits_05/models/sentence_vae_FreeBits_0.5_6000.pt',\n",
       " 'results_final/results3/word_dropout_066_freebits_05/models/sentence_vae_FreeBits_0.5_7000.pt']"
      ]
     },
     "execution_count": 20,
     "metadata": {},
     "output_type": "execute_result"
    }
   ],
   "source": [
    "saved_model_files = get_model_filenames('word_dropout_066_freebits_05')\n",
    "saved_model_files"
   ]
  },
  {
   "cell_type": "code",
   "execution_count": null,
   "metadata": {},
   "outputs": [],
   "source": [
    "wd_fb_nlls, wd_fb_kls, wd_fb_ppls = get_approx_nlls(saved_model_files)"
   ]
  },
  {
   "cell_type": "code",
   "execution_count": 22,
   "metadata": {},
   "outputs": [
    {
     "name": "stdout",
     "output_type": "stream",
     "text": [
      "[tensor(121.7844, device='cuda:0'), tensor(121.3049, device='cuda:0'), tensor(121.2192, device='cuda:0'), tensor(121.9081, device='cuda:0')]\n"
     ]
    }
   ],
   "source": [
    "print(wd_fb_nlls)"
   ]
  },
  {
   "cell_type": "markdown",
   "metadata": {},
   "source": [
    "## Word dropout & MDR"
   ]
  },
  {
   "cell_type": "code",
   "execution_count": 23,
   "metadata": {},
   "outputs": [
    {
     "data": {
      "text/plain": [
       "['results_final/results0/word_dropout_066_mdr_10/models/sentence_vae_MDR_10.0_6000.pt',\n",
       " 'results_final/results1/word_dropout_066_mdr_10/models/sentence_vae_MDR_10.0_6000.pt',\n",
       " 'results_final/results2/word_dropout_066_mdr_10/models/sentence_vae_MDR_10.0_6000.pt',\n",
       " 'results_final/results3/word_dropout_066_mdr_10/models/sentence_vae_MDR_10.0_4500.pt']"
      ]
     },
     "execution_count": 23,
     "metadata": {},
     "output_type": "execute_result"
    }
   ],
   "source": [
    "saved_model_files = get_model_filenames('word_dropout_066_mdr_10')\n",
    "saved_model_files"
   ]
  },
  {
   "cell_type": "code",
   "execution_count": null,
   "metadata": {},
   "outputs": [],
   "source": [
    "wd_mdr_nlls, wd_mdr_kls, wd_mdr_ppls = get_approx_nlls(saved_model_files)"
   ]
  },
  {
   "cell_type": "code",
   "execution_count": 25,
   "metadata": {
    "scrolled": true
   },
   "outputs": [
    {
     "name": "stdout",
     "output_type": "stream",
     "text": [
      "[tensor(126.9942, device='cuda:0'), tensor(127.1339, device='cuda:0'), tensor(127.0793, device='cuda:0'), tensor(126.7280, device='cuda:0')] [tensor(0.0486, device='cuda:0'), tensor(0.0453, device='cuda:0'), tensor(0.0573, device='cuda:0'), tensor(0.0670, device='cuda:0')]\n"
     ]
    }
   ],
   "source": [
    "print(vanilla_nlls, vanilla_kls)"
   ]
  },
  {
   "cell_type": "code",
   "execution_count": 26,
   "metadata": {
    "scrolled": true
   },
   "outputs": [
    {
     "name": "stdout",
     "output_type": "stream",
     "text": [
      "[tensor(126.3573, device='cuda:0'), tensor(127.2923, device='cuda:0'), tensor(126.4816, device='cuda:0'), tensor(126.8953, device='cuda:0')] [tensor(1.2080, device='cuda:0'), tensor(1.0724, device='cuda:0'), tensor(1.4329, device='cuda:0'), tensor(1.1597, device='cuda:0')]\n"
     ]
    }
   ],
   "source": [
    "print(wd_nlls, wd_kls)"
   ]
  },
  {
   "cell_type": "code",
   "execution_count": 27,
   "metadata": {},
   "outputs": [
    {
     "name": "stdout",
     "output_type": "stream",
     "text": [
      "[tensor(121.0335, device='cuda:0'), tensor(120.8254, device='cuda:0'), tensor(120.9688, device='cuda:0'), tensor(121.1455, device='cuda:0')] [tensor(8.1792, device='cuda:0'), tensor(8.3366, device='cuda:0'), tensor(8.2716, device='cuda:0'), tensor(8.2359, device='cuda:0')]\n"
     ]
    }
   ],
   "source": [
    "print(fb_nlls, fb_kls)"
   ]
  },
  {
   "cell_type": "code",
   "execution_count": 28,
   "metadata": {},
   "outputs": [
    {
     "name": "stdout",
     "output_type": "stream",
     "text": [
      "[tensor(119.7502, device='cuda:0'), tensor(119.9091, device='cuda:0'), tensor(120.0708, device='cuda:0'), tensor(119.5433, device='cuda:0')] [tensor(9.7394, device='cuda:0'), tensor(9.5362, device='cuda:0'), tensor(9.7923, device='cuda:0'), tensor(9.5691, device='cuda:0')]\n"
     ]
    }
   ],
   "source": [
    "print(mdr_nlls, mdr_kls)"
   ]
  },
  {
   "cell_type": "code",
   "execution_count": 29,
   "metadata": {},
   "outputs": [
    {
     "name": "stdout",
     "output_type": "stream",
     "text": [
      "[tensor(121.7844, device='cuda:0'), tensor(121.3049, device='cuda:0'), tensor(121.2192, device='cuda:0'), tensor(121.9081, device='cuda:0')] [tensor(8.4971, device='cuda:0'), tensor(8.7278, device='cuda:0'), tensor(8.8820, device='cuda:0'), tensor(9.1538, device='cuda:0')]\n"
     ]
    }
   ],
   "source": [
    "print(wd_fb_nlls, wd_fb_kls)"
   ]
  },
  {
   "cell_type": "code",
   "execution_count": 30,
   "metadata": {},
   "outputs": [
    {
     "name": "stdout",
     "output_type": "stream",
     "text": [
      "[tensor(120.9624, device='cuda:0'), tensor(121.1598, device='cuda:0'), tensor(120.4921, device='cuda:0'), tensor(121.6460, device='cuda:0')] [tensor(8.9841, device='cuda:0'), tensor(9.4737, device='cuda:0'), tensor(9.8161, device='cuda:0'), tensor(9.1793, device='cuda:0')]\n"
     ]
    }
   ],
   "source": [
    "print(wd_mdr_nlls, wd_mdr_kls)"
   ]
  },
  {
   "cell_type": "markdown",
   "metadata": {},
   "source": [
    "## Summary of Results"
   ]
  },
  {
   "cell_type": "markdown",
   "metadata": {},
   "source": [
    "### NLL"
   ]
  },
  {
   "cell_type": "code",
   "execution_count": 54,
   "metadata": {},
   "outputs": [],
   "source": [
    "all_results = {\n",
    "    \"Vanilla\": torch.tensor(vanilla_nlls),\n",
    "    \"Word dropout\": torch.tensor(wd_nlls),\n",
    "    \"Free Bits\": torch.tensor(fb_nlls),\n",
    "    \"MDR\": torch.tensor(mdr_nlls),\n",
    "    \"Word dropout & Free Bits\": torch.tensor(wd_fb_nlls),\n",
    "    \"Word dropout & MDR\": torch.tensor(wd_mdr_nlls),\n",
    "}"
   ]
  },
  {
   "cell_type": "code",
   "execution_count": 57,
   "metadata": {},
   "outputs": [
    {
     "name": "stdout",
     "output_type": "stream",
     "text": [
      "NLL:\n",
      "                 Vanilla: \t 126.9838 \t (0.1800)\n",
      "            Word dropout: \t 126.7566 \t (0.4248)\n",
      "               Free Bits: \t 120.9933 \t (0.1336)\n",
      "                     MDR: \t 119.8184 \t (0.2253)\n",
      "Word dropout & Free Bits: \t 121.5541 \t (0.3428)\n",
      "      Word dropout & MDR: \t 121.0651 \t (0.4779)\n"
     ]
    }
   ],
   "source": [
    "print(\"NLL:\")\n",
    "for name, res in all_results.items():\n",
    "    std, mean = torch.std_mean(res)\n",
    "    print(f\"{name: >24}: \\t {mean:.4f} \\t ({std:.4f})\")"
   ]
  },
  {
   "cell_type": "markdown",
   "metadata": {},
   "source": [
    "### KL"
   ]
  },
  {
   "cell_type": "code",
   "execution_count": 58,
   "metadata": {},
   "outputs": [],
   "source": [
    "all_results = {\n",
    "    \"Vanilla\": torch.tensor(vanilla_kls),\n",
    "    \"Word dropout\": torch.tensor(wd_kls),\n",
    "    \"Free Bits\": torch.tensor(fb_kls),\n",
    "    \"MDR\": torch.tensor(mdr_kls),\n",
    "    \"Word dropout & Free Bits\": torch.tensor(wd_fb_kls),\n",
    "    \"Word dropout & MDR\": torch.tensor(wd_mdr_kls),\n",
    "}"
   ]
  },
  {
   "cell_type": "code",
   "execution_count": 59,
   "metadata": {},
   "outputs": [
    {
     "name": "stdout",
     "output_type": "stream",
     "text": [
      "KL:\n",
      "                 Vanilla: \t 0.0545 \t (0.0097)\n",
      "            Word dropout: \t 1.2182 \t (0.1537)\n",
      "               Free Bits: \t 8.2558 \t (0.0659)\n",
      "                     MDR: \t 9.6593 \t (0.1257)\n",
      "Word dropout & Free Bits: \t 8.8152 \t (0.2756)\n",
      "      Word dropout & MDR: \t 9.3633 \t (0.3628)\n"
     ]
    }
   ],
   "source": [
    "print(\"KL:\")\n",
    "for name, res in all_results.items():\n",
    "    std, mean = torch.std_mean(res)\n",
    "    print(f\"{name: >24}: \\t {mean:.4f} \\t ({std:.4f})\")"
   ]
  },
  {
   "cell_type": "markdown",
   "metadata": {},
   "source": [
    "## Perplexity"
   ]
  },
  {
   "cell_type": "code",
   "execution_count": 60,
   "metadata": {},
   "outputs": [],
   "source": [
    "all_results = {\n",
    "    \"Vanilla\": torch.tensor(vanilla_ppls),\n",
    "    \"Word dropout\": torch.tensor(wd_ppls),\n",
    "    \"Free Bits\": torch.tensor(fb_ppls),\n",
    "    \"MDR\": torch.tensor(mdr_ppls),\n",
    "    \"Word dropout & Free Bits\": torch.tensor(wd_fb_ppls),\n",
    "    \"Word dropout & MDR\": torch.tensor(wd_mdr_ppls),\n",
    "}"
   ]
  },
  {
   "cell_type": "code",
   "execution_count": 61,
   "metadata": {},
   "outputs": [
    {
     "name": "stdout",
     "output_type": "stream",
     "text": [
      "PPL:\n",
      "                 Vanilla: \t 224.3221 \t (1.6686)\n",
      "            Word dropout: \t 230.8136 \t (3.2878)\n",
      "               Free Bits: \t 230.0741 \t (1.2508)\n",
      "                     MDR: \t 231.1117 \t (2.8169)\n",
      "Word dropout & Free Bits: \t 238.7130 \t (3.8080)\n",
      "      Word dropout & MDR: \t 239.1234 \t (4.4025)\n"
     ]
    }
   ],
   "source": [
    "print(\"PPL:\")\n",
    "for name, res in all_results.items():\n",
    "    std, mean = torch.std_mean(res)\n",
    "    print(f\"{name: >24}: \\t {mean:.4f} \\t ({std:.4f})\")"
   ]
  }
 ],
 "metadata": {
  "kernelspec": {
   "display_name": "Python 3",
   "language": "python",
   "name": "python3"
  },
  "language_info": {
   "codemirror_mode": {
    "name": "ipython",
    "version": 3
   },
   "file_extension": ".py",
   "mimetype": "text/x-python",
   "name": "python",
   "nbconvert_exporter": "python",
   "pygments_lexer": "ipython3",
   "version": "3.7.5"
  },
  "toc": {
   "base_numbering": 1,
   "nav_menu": {},
   "number_sections": true,
   "sideBar": true,
   "skip_h1_title": false,
   "title_cell": "Table of Contents",
   "title_sidebar": "Contents",
   "toc_cell": false,
   "toc_position": {},
   "toc_section_display": true,
   "toc_window_display": false
  }
 },
 "nbformat": 4,
 "nbformat_minor": 4
}
