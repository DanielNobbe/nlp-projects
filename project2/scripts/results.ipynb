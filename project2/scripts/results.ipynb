{
 "cells": [
  {
   "cell_type": "code",
   "execution_count": 1,
   "metadata": {},
   "outputs": [],
   "source": [
    "import torch"
   ]
  },
  {
   "cell_type": "code",
   "execution_count": 2,
   "metadata": {},
   "outputs": [],
   "source": [
    "from vae import test_nll_estimation, parse_arguments"
   ]
  },
  {
   "cell_type": "code",
   "execution_count": 3,
   "metadata": {},
   "outputs": [],
   "source": [
    "from pathlib import Path"
   ]
  },
  {
   "cell_type": "code",
   "execution_count": 4,
   "metadata": {},
   "outputs": [],
   "source": [
    "args = dict(\n",
    "    data_path='../Data/Dataset',\n",
    "    device='cuda' if torch.cuda.is_available() else 'cpu',\n",
    "    embedding_size=300,\n",
    "    hidden_size=256,\n",
    "    latent_size=16,\n",
    "    num_layers=1,\n",
    "    word_dropout=1.0,\n",
    "    freebits=None,\n",
    "    model_save_path='models',\n",
    "    batch_size_valid=64,\n",
    "    num_samples=10,\n",
    ")"
   ]
  },
  {
   "cell_type": "code",
   "execution_count": 11,
   "metadata": {
    "scrolled": true
   },
   "outputs": [],
   "source": [
    "def get_approx_nlls(saved_model_files):\n",
    "    nlls = []\n",
    "    for saved_model_file in saved_model_files:\n",
    "        nll = test_nll_estimation(saved_model_file=saved_model_file, **args)\n",
    "        nlls.append(nll)\n",
    "    return nlls"
   ]
  },
  {
   "cell_type": "code",
   "execution_count": 6,
   "metadata": {},
   "outputs": [],
   "source": [
    "def get_model_filenames(experiment_name='vanilla'):\n",
    "    saved_model_files = [next(Path(f\"results_final/results{i}/{experiment_name}/models/\").iterdir()) for i in range(4)]\n",
    "    saved_model_files = [str(f) for f in saved_model_files]\n",
    "    return saved_model_files"
   ]
  },
  {
   "cell_type": "code",
   "execution_count": 7,
   "metadata": {},
   "outputs": [],
   "source": [
    "num_samples = 10"
   ]
  },
  {
   "cell_type": "markdown",
   "metadata": {},
   "source": [
    "# Vanilla NLL"
   ]
  },
  {
   "cell_type": "code",
   "execution_count": 8,
   "metadata": {},
   "outputs": [
    {
     "data": {
      "text/plain": [
       "['results_final/results0/vanilla/models/sentence_vae_3500.pt',\n",
       " 'results_final/results1/vanilla/models/sentence_vae_3500.pt',\n",
       " 'results_final/results2/vanilla/models/sentence_vae_3500.pt',\n",
       " 'results_final/results3/vanilla/models/sentence_vae_3500.pt']"
      ]
     },
     "execution_count": 8,
     "metadata": {},
     "output_type": "execute_result"
    }
   ],
   "source": [
    "saved_model_files = get_model_filenames('vanilla')\n",
    "saved_model_files"
   ]
  },
  {
   "cell_type": "code",
   "execution_count": null,
   "metadata": {},
   "outputs": [],
   "source": [
    "vanilla_nlls = get_approx_nlls(saved_model_files)"
   ]
  },
  {
   "cell_type": "code",
   "execution_count": 13,
   "metadata": {},
   "outputs": [
    {
     "name": "stdout",
     "output_type": "stream",
     "text": [
      "[tensor(126.9911, device='cuda:0'), tensor(127.1313, device='cuda:0'), tensor(127.0736, device='cuda:0'), tensor(126.7324, device='cuda:0')]\n"
     ]
    }
   ],
   "source": [
    "print(vanilla_nlls)"
   ]
  },
  {
   "cell_type": "markdown",
   "metadata": {},
   "source": [
    "# Word dropout"
   ]
  },
  {
   "cell_type": "code",
   "execution_count": 14,
   "metadata": {},
   "outputs": [
    {
     "data": {
      "text/plain": [
       "['results_final/results0/word_dropout_066/models/sentence_vae_6000.pt',\n",
       " 'results_final/results1/word_dropout_066/models/sentence_vae_4500.pt',\n",
       " 'results_final/results2/word_dropout_066/models/sentence_vae_6000.pt',\n",
       " 'results_final/results3/word_dropout_066/models/sentence_vae_6000.pt']"
      ]
     },
     "execution_count": 14,
     "metadata": {},
     "output_type": "execute_result"
    }
   ],
   "source": [
    "saved_model_files = get_model_filenames('word_dropout_066')\n",
    "saved_model_files"
   ]
  },
  {
   "cell_type": "code",
   "execution_count": null,
   "metadata": {},
   "outputs": [],
   "source": [
    "wd_nlls = get_approx_nlls(saved_model_files)"
   ]
  },
  {
   "cell_type": "code",
   "execution_count": 16,
   "metadata": {
    "scrolled": true
   },
   "outputs": [
    {
     "name": "stdout",
     "output_type": "stream",
     "text": [
      "[tensor(126.3514, device='cuda:0'), tensor(127.2843, device='cuda:0'), tensor(126.4913, device='cuda:0'), tensor(126.8849, device='cuda:0')]\n"
     ]
    }
   ],
   "source": [
    "print(wd_nlls)"
   ]
  },
  {
   "cell_type": "markdown",
   "metadata": {},
   "source": [
    "# Free Bits"
   ]
  },
  {
   "cell_type": "code",
   "execution_count": 17,
   "metadata": {},
   "outputs": [
    {
     "data": {
      "text/plain": [
       "['results_final/results0/freebits_05/models/sentence_vae_FreeBits_0.5_3500.pt',\n",
       " 'results_final/results1/freebits_05/models/sentence_vae_FreeBits_0.5_3500.pt',\n",
       " 'results_final/results2/freebits_05/models/sentence_vae_FreeBits_0.5_3500.pt',\n",
       " 'results_final/results3/freebits_05/models/sentence_vae_FreeBits_0.5_3500.pt']"
      ]
     },
     "execution_count": 17,
     "metadata": {},
     "output_type": "execute_result"
    }
   ],
   "source": [
    "saved_model_files = get_model_filenames('freebits_05')\n",
    "saved_model_files"
   ]
  },
  {
   "cell_type": "code",
   "execution_count": null,
   "metadata": {},
   "outputs": [],
   "source": [
    "fb_nlls = get_approx_nlls(saved_model_files)"
   ]
  },
  {
   "cell_type": "code",
   "execution_count": 19,
   "metadata": {},
   "outputs": [
    {
     "name": "stdout",
     "output_type": "stream",
     "text": [
      "[tensor(121.0451, device='cuda:0'), tensor(120.7842, device='cuda:0'), tensor(120.9724, device='cuda:0'), tensor(121.1376, device='cuda:0')]\n"
     ]
    }
   ],
   "source": [
    "print(fb_nlls)"
   ]
  },
  {
   "cell_type": "markdown",
   "metadata": {},
   "source": [
    "# MDR"
   ]
  },
  {
   "cell_type": "code",
   "execution_count": 20,
   "metadata": {},
   "outputs": [
    {
     "data": {
      "text/plain": [
       "['results_final/results0/mdr10/models/sentence_vae_MDR_10.0_3500.pt',\n",
       " 'results_final/results1/mdr10/models/sentence_vae_MDR_10.0_3500.pt',\n",
       " 'results_final/results2/mdr10/models/sentence_vae_MDR_10.0_3500.pt',\n",
       " 'results_final/results3/mdr10/models/sentence_vae_MDR_10.0_3500.pt']"
      ]
     },
     "execution_count": 20,
     "metadata": {},
     "output_type": "execute_result"
    }
   ],
   "source": [
    "saved_model_files = get_model_filenames('mdr10')\n",
    "saved_model_files"
   ]
  },
  {
   "cell_type": "code",
   "execution_count": null,
   "metadata": {},
   "outputs": [],
   "source": [
    "mdr_nlls = get_approx_nlls(saved_model_files)"
   ]
  },
  {
   "cell_type": "code",
   "execution_count": 22,
   "metadata": {},
   "outputs": [
    {
     "name": "stdout",
     "output_type": "stream",
     "text": [
      "[tensor(119.8162, device='cuda:0'), tensor(119.8743, device='cuda:0'), tensor(120.0954, device='cuda:0'), tensor(119.5580, device='cuda:0')]\n"
     ]
    }
   ],
   "source": [
    "print(mdr_nlls)"
   ]
  },
  {
   "cell_type": "markdown",
   "metadata": {},
   "source": [
    "# Word dropout & Free Bits"
   ]
  },
  {
   "cell_type": "code",
   "execution_count": 23,
   "metadata": {},
   "outputs": [
    {
     "data": {
      "text/plain": [
       "['results_final/results0/word_dropout_066_freebits_05/models/sentence_vae_FreeBits_0.5_4500.pt',\n",
       " 'results_final/results1/word_dropout_066_freebits_05/models/sentence_vae_FreeBits_0.5_6000.pt',\n",
       " 'results_final/results2/word_dropout_066_freebits_05/models/sentence_vae_FreeBits_0.5_6000.pt',\n",
       " 'results_final/results3/word_dropout_066_freebits_05/models/sentence_vae_FreeBits_0.5_7000.pt']"
      ]
     },
     "execution_count": 23,
     "metadata": {},
     "output_type": "execute_result"
    }
   ],
   "source": [
    "saved_model_files = get_model_filenames('word_dropout_066_freebits_05')\n",
    "saved_model_files"
   ]
  },
  {
   "cell_type": "code",
   "execution_count": null,
   "metadata": {},
   "outputs": [],
   "source": [
    "wd_fb_nlls = get_approx_nlls(saved_model_files)"
   ]
  },
  {
   "cell_type": "code",
   "execution_count": 25,
   "metadata": {},
   "outputs": [
    {
     "name": "stdout",
     "output_type": "stream",
     "text": [
      "[tensor(121.7690, device='cuda:0'), tensor(121.3110, device='cuda:0'), tensor(121.2281, device='cuda:0'), tensor(121.8895, device='cuda:0')]\n"
     ]
    }
   ],
   "source": [
    "print(wd_fb_nlls)"
   ]
  },
  {
   "cell_type": "markdown",
   "metadata": {},
   "source": [
    "# Word dropout & MDR"
   ]
  },
  {
   "cell_type": "code",
   "execution_count": 26,
   "metadata": {},
   "outputs": [
    {
     "data": {
      "text/plain": [
       "['results_final/results0/word_dropout_066_mdr_10/models/sentence_vae_MDR_10.0_6000.pt',\n",
       " 'results_final/results1/word_dropout_066_mdr_10/models/sentence_vae_MDR_10.0_6000.pt',\n",
       " 'results_final/results2/word_dropout_066_mdr_10/models/sentence_vae_MDR_10.0_6000.pt',\n",
       " 'results_final/results3/word_dropout_066_mdr_10/models/sentence_vae_MDR_10.0_4500.pt']"
      ]
     },
     "execution_count": 26,
     "metadata": {},
     "output_type": "execute_result"
    }
   ],
   "source": [
    "saved_model_files = get_model_filenames('word_dropout_066_mdr_10')\n",
    "saved_model_files"
   ]
  },
  {
   "cell_type": "code",
   "execution_count": null,
   "metadata": {},
   "outputs": [],
   "source": [
    "wd_mdr_nlls = get_approx_nlls(saved_model_files)"
   ]
  },
  {
   "cell_type": "code",
   "execution_count": 13,
   "metadata": {
    "scrolled": true
   },
   "outputs": [
    {
     "name": "stdout",
     "output_type": "stream",
     "text": [
      "[tensor(126.9911, device='cuda:0'), tensor(127.1313, device='cuda:0'), tensor(127.0736, device='cuda:0'), tensor(126.7324, device='cuda:0')]\n"
     ]
    }
   ],
   "source": [
    "print(vanilla_nlls)"
   ]
  },
  {
   "cell_type": "code",
   "execution_count": 16,
   "metadata": {
    "scrolled": true
   },
   "outputs": [
    {
     "name": "stdout",
     "output_type": "stream",
     "text": [
      "[tensor(126.3514, device='cuda:0'), tensor(127.2843, device='cuda:0'), tensor(126.4913, device='cuda:0'), tensor(126.8849, device='cuda:0')]\n"
     ]
    }
   ],
   "source": [
    "print(wd_nlls)"
   ]
  },
  {
   "cell_type": "code",
   "execution_count": 19,
   "metadata": {},
   "outputs": [
    {
     "name": "stdout",
     "output_type": "stream",
     "text": [
      "[tensor(121.0451, device='cuda:0'), tensor(120.7842, device='cuda:0'), tensor(120.9724, device='cuda:0'), tensor(121.1376, device='cuda:0')]\n"
     ]
    }
   ],
   "source": [
    "print(fb_nlls)"
   ]
  },
  {
   "cell_type": "code",
   "execution_count": 22,
   "metadata": {},
   "outputs": [
    {
     "name": "stdout",
     "output_type": "stream",
     "text": [
      "[tensor(119.8162, device='cuda:0'), tensor(119.8743, device='cuda:0'), tensor(120.0954, device='cuda:0'), tensor(119.5580, device='cuda:0')]\n"
     ]
    }
   ],
   "source": [
    "print(mdr_nlls)"
   ]
  },
  {
   "cell_type": "code",
   "execution_count": 25,
   "metadata": {},
   "outputs": [
    {
     "name": "stdout",
     "output_type": "stream",
     "text": [
      "[tensor(121.7690, device='cuda:0'), tensor(121.3110, device='cuda:0'), tensor(121.2281, device='cuda:0'), tensor(121.8895, device='cuda:0')]\n"
     ]
    }
   ],
   "source": [
    "print(wd_fb_nlls)"
   ]
  },
  {
   "cell_type": "code",
   "execution_count": 28,
   "metadata": {},
   "outputs": [
    {
     "name": "stdout",
     "output_type": "stream",
     "text": [
      "[tensor(120.9221, device='cuda:0'), tensor(121.1686, device='cuda:0'), tensor(120.5179, device='cuda:0'), tensor(121.6265, device='cuda:0')]\n"
     ]
    }
   ],
   "source": [
    "print(wd_mdr_nlls)"
   ]
  },
  {
   "cell_type": "markdown",
   "metadata": {},
   "source": [
    "# Results"
   ]
  },
  {
   "cell_type": "code",
   "execution_count": 36,
   "metadata": {},
   "outputs": [],
   "source": [
    "all_results = {\n",
    "    \"Vanilla\": torch.tensor(vanilla_nlls),\n",
    "    \"Word dropout\": torch.tensor(wd_nlls),\n",
    "    \"Free Bits\": torch.tensor(fb_nlls),\n",
    "    \"MDR\": torch.tensor(mdr_nlls),\n",
    "    \"Word dropout & Free Bits\": torch.tensor(wd_fb_nlls),\n",
    "    \"Word dropout & MDR\": torch.tensor(wd_mdr_nlls),\n",
    "}"
   ]
  },
  {
   "cell_type": "code",
   "execution_count": 48,
   "metadata": {},
   "outputs": [
    {
     "name": "stdout",
     "output_type": "stream",
     "text": [
      "                       Vanilla approximated NLL: \t 126.98207092285156 \t +- 0.1761312633752823\n",
      "                  Word dropout approximated NLL: \t 126.7529296875 \t +- 0.42009851336479187\n",
      "                     Free Bits approximated NLL: \t 120.98483276367188 \t +- 0.14984405040740967\n",
      "                           MDR approximated NLL: \t 119.83599090576172 \t +- 0.22093771398067474\n",
      "      Word dropout & Free Bits approximated NLL: \t 121.54940795898438 \t +- 0.328605979681015\n",
      "            Word dropout & MDR approximated NLL: \t 121.05879211425781 \t +- 0.46391791105270386\n"
     ]
    }
   ],
   "source": [
    "for name, res in all_results.items():\n",
    "    std, mean = torch.std_mean(res)\n",
    "    print(f\"{name: >30} approximated NLL: \\t {mean} \\t +- {std}\")"
   ]
  }
 ],
 "metadata": {
  "kernelspec": {
   "display_name": "Python 3",
   "language": "python",
   "name": "python3"
  },
  "language_info": {
   "codemirror_mode": {
    "name": "ipython",
    "version": 3
   },
   "file_extension": ".py",
   "mimetype": "text/x-python",
   "name": "python",
   "nbconvert_exporter": "python",
   "pygments_lexer": "ipython3",
   "version": "3.7.5"
  },
  "toc": {
   "base_numbering": 1,
   "nav_menu": {},
   "number_sections": true,
   "sideBar": true,
   "skip_h1_title": false,
   "title_cell": "Table of Contents",
   "title_sidebar": "Contents",
   "toc_cell": false,
   "toc_position": {},
   "toc_section_display": true,
   "toc_window_display": false
  }
 },
 "nbformat": 4,
 "nbformat_minor": 4
}
